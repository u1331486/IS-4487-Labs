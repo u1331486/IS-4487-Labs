{
  "nbformat": 4,
  "nbformat_minor": 0,
  "metadata": {
    "colab": {
      "provenance": [],
      "mount_file_id": "19rfM_L0lkBwYHTM7HsTO1IGQ5A97IaBj",
      "authorship_tag": "ABX9TyMSmo+reT87nlycTC4wa49L",
      "include_colab_link": true
    },
    "kernelspec": {
      "name": "python3",
      "display_name": "Python 3"
    },
    "language_info": {
      "name": "python"
    }
  },
  "cells": [
    {
      "cell_type": "markdown",
      "metadata": {
        "id": "view-in-github",
        "colab_type": "text"
      },
      "source": [
        "<a href=\"https://colab.research.google.com/github/u1331486/IS-4487-Labs/blob/main/quiz.12ipynb\" target=\"_parent\"><img src=\"https://colab.research.google.com/assets/colab-badge.svg\" alt=\"Open In Colab\"/></a>"
      ]
    },
    {
      "cell_type": "code",
      "execution_count": 1,
      "metadata": {
        "id": "ep0to9hCSzPy"
      },
      "outputs": [],
      "source": [
        "import pandas as pd\n",
        "from sklearn.tree import DecisionTreeClassifier\n",
        "from sklearn.metrics import confusion_matrix\n"
      ]
    },
    {
      "cell_type": "code",
      "source": [
        "df_adviseivest = pd.read_csv(\"/content/drive/MyDrive/Colab Notebooks/adviseinvest.csv\")\n",
        "df_customer_data = pd.read_csv (\"/content/drive/MyDrive/Colab Notebooks/customer_data.csv\")\n",
        "\n"
      ],
      "metadata": {
        "id": "lmE-GwEhS5tg"
      },
      "execution_count": 2,
      "outputs": []
    },
    {
      "cell_type": "code",
      "source": [
        "print(df_adviseivest.head())\n",
        "\n",
        "print(df_adviseivest.describe())"
      ],
      "metadata": {
        "id": "dRo0uPISTb-i",
        "outputId": "df916f76-5b9b-4d67-c4d9-ec4279a9977c",
        "colab": {
          "base_uri": "https://localhost:8080/"
        }
      },
      "execution_count": 3,
      "outputs": [
        {
          "output_type": "stream",
          "name": "stdout",
          "text": [
            "   answered  income  female  age  job  num_dependents  rent  own_res  new_car  \\\n",
            "0         1   13520       0   23    0               1     1        0      0.0   \n",
            "1         0   14780       0   22    2               1     0        1      0.0   \n",
            "2         1   37570       0   62    2               1     0        0      1.0   \n",
            "3         0   12450       0   33    2               1     0        1      0.0   \n",
            "4         0   12400       0   48    1               2     0        0      1.0   \n",
            "\n",
            "   chk_acct  sav_acct  num_accts  mobile  product  \n",
            "0         0         2          0       1        2  \n",
            "1         3         0          3       0        0  \n",
            "2         3         0          4       0        4  \n",
            "3         1         0          2       0        0  \n",
            "4         2         1          4       0        0  \n",
            "           answered         income        female           age           job  \\\n",
            "count  29504.000000   29504.000000  29504.000000  29504.000000  29504.000000   \n",
            "mean       0.546638   33766.893303      0.054230     34.770065      1.915401   \n",
            "std        0.497829   29379.202710      0.226475     11.355777      0.658183   \n",
            "min        0.000000  -65600.000000      0.000000     19.000000      0.000000   \n",
            "25%        0.000000   13550.000000      0.000000     26.000000      2.000000   \n",
            "50%        1.000000   23310.000000      0.000000     32.000000      2.000000   \n",
            "75%        1.000000   41690.000000      0.000000     40.000000      2.000000   \n",
            "max        1.000000  159450.000000      1.000000     74.000000      3.000000   \n",
            "\n",
            "       num_dependents          rent       own_res       new_car      chk_acct  \\\n",
            "count    29504.000000  29504.000000  29504.000000  29502.000000  29504.000000   \n",
            "mean         1.140998      0.210412      0.681128      0.240797      1.468547   \n",
            "std          0.348025      0.407608      0.466047      0.427575      1.234727   \n",
            "min          1.000000      0.000000      0.000000      0.000000      0.000000   \n",
            "25%          1.000000      0.000000      0.000000      0.000000      0.000000   \n",
            "50%          1.000000      0.000000      1.000000      0.000000      1.000000   \n",
            "75%          1.000000      0.000000      1.000000      0.000000      3.000000   \n",
            "max          2.000000      1.000000      1.000000      1.000000      3.000000   \n",
            "\n",
            "           sav_acct     num_accts        mobile       product  \n",
            "count  29504.000000  29504.000000  29504.000000  29504.000000  \n",
            "mean       0.956616      2.458175      0.091106      1.535792  \n",
            "std        1.483946     19.497353      0.287765      1.625916  \n",
            "min        0.000000      0.000000      0.000000      0.000000  \n",
            "25%        0.000000      2.000000      0.000000      0.000000  \n",
            "50%        0.000000      2.000000      0.000000      1.000000  \n",
            "75%        2.000000      3.000000      0.000000      3.000000  \n",
            "max        4.000000   3345.000000      1.000000      4.000000  \n"
          ]
        }
      ]
    },
    {
      "cell_type": "code",
      "source": [
        "print(df_customer_data.head())\n",
        "\n",
        "print(df_customer_data.describe())"
      ],
      "metadata": {
        "colab": {
          "base_uri": "https://localhost:8080/"
        },
        "id": "ijnzGa4hU0Ra",
        "outputId": "93164b2b-2646-476f-df2f-fd183ccbcd65"
      },
      "execution_count": 4,
      "outputs": [
        {
          "output_type": "stream",
          "name": "stdout",
          "text": [
            "   income  female  age  job  num_dependents  rent  own_res  new_car  chk_acct  \\\n",
            "0   30010       0   40    2               1     1        0        0         1   \n",
            "1   30510       0   54    2               1     0        1        0         0   \n",
            "2   12880       0   48    2               2     0        1        0         0   \n",
            "3   15530       0   44    2               1     0        1        0         0   \n",
            "4   46230       0   40    3               1     0        1        0         3   \n",
            "\n",
            "   sav_acct  num_accts  mobile customer_id  \n",
            "0         0          3       0       H1597  \n",
            "1         0          2       0       P1446  \n",
            "2         1          4       0       E1492  \n",
            "3         0          2       0       W5143  \n",
            "4         1          2       0       W4927  \n",
            "              income       female         age          job  num_dependents  \\\n",
            "count    1000.000000  1000.000000  1000.00000  1000.000000      1000.00000   \n",
            "mean    34033.260000     0.050000    35.01400     1.947000         1.13900   \n",
            "std     29474.002504     0.218054    11.40473     0.663801         0.34612   \n",
            "min      2760.000000     0.000000    19.00000     0.000000         1.00000   \n",
            "25%     13505.000000     0.000000    26.00000     2.000000         1.00000   \n",
            "50%     23660.000000     0.000000    32.00000     2.000000         1.00000   \n",
            "75%     42970.000000     0.000000    41.00000     2.000000         1.00000   \n",
            "max    159450.000000     1.000000    74.00000     3.000000         2.00000   \n",
            "\n",
            "              rent     own_res      new_car     chk_acct     sav_acct  \\\n",
            "count  1000.000000  1000.00000  1000.000000  1000.000000  1000.000000   \n",
            "mean      0.213000     0.68300     0.227000     1.486000     1.018000   \n",
            "std       0.409633     0.46554     0.419102     1.229356     1.527747   \n",
            "min       0.000000     0.00000     0.000000     0.000000     0.000000   \n",
            "25%       0.000000     0.00000     0.000000     0.000000     0.000000   \n",
            "50%       0.000000     1.00000     0.000000     1.000000     0.000000   \n",
            "75%       0.000000     1.00000     0.000000     3.000000     2.000000   \n",
            "max       1.000000     1.00000     1.000000     3.000000     4.000000   \n",
            "\n",
            "         num_accts       mobile  \n",
            "count  1000.000000  1000.000000  \n",
            "mean      2.406000     0.103000  \n",
            "std       1.188519     0.304111  \n",
            "min       0.000000     0.000000  \n",
            "25%       2.000000     0.000000  \n",
            "50%       2.000000     0.000000  \n",
            "75%       4.000000     0.000000  \n",
            "max       4.000000     1.000000  \n"
          ]
        }
      ]
    },
    {
      "cell_type": "code",
      "source": [
        "print(df_adviseivest.columns)\n"
      ],
      "metadata": {
        "id": "0vOxp3S0Vx5g",
        "outputId": "b84c918b-8622-4a2a-9716-faa00dc7d8eb",
        "colab": {
          "base_uri": "https://localhost:8080/"
        }
      },
      "execution_count": 5,
      "outputs": [
        {
          "output_type": "stream",
          "name": "stdout",
          "text": [
            "Index(['answered', 'income', 'female', 'age', 'job', 'num_dependents', 'rent',\n",
            "       'own_res', 'new_car', 'chk_acct', 'sav_acct', 'num_accts', 'mobile',\n",
            "       'product'],\n",
            "      dtype='object')\n"
          ]
        }
      ]
    },
    {
      "cell_type": "code",
      "source": [
        "df_adviseivest.dropna(inplace=True)\n"
      ],
      "metadata": {
        "id": "_THi1Oz4WPll"
      },
      "execution_count": 6,
      "outputs": []
    },
    {
      "cell_type": "code",
      "source": [
        "# Define predictors and target variable\n",
        "X = df_adviseivest.drop(columns=['answered'])\n",
        "y = df_adviseivest['answered']\n"
      ],
      "metadata": {
        "id": "hZmynO-6VOc4"
      },
      "execution_count": 9,
      "outputs": []
    },
    {
      "cell_type": "code",
      "source": [
        "# Fit a decision tree classifier\n",
        "model = DecisionTreeClassifier(random_state=42)\n",
        "model.fit(X, y)\n",
        "\n"
      ],
      "metadata": {
        "id": "8qq7X1SDVWmy",
        "outputId": "b57cdd3f-2939-4a1c-da22-17c9bad2772c",
        "colab": {
          "base_uri": "https://localhost:8080/",
          "height": 75
        }
      },
      "execution_count": 10,
      "outputs": [
        {
          "output_type": "execute_result",
          "data": {
            "text/plain": [
              "DecisionTreeClassifier(random_state=42)"
            ],
            "text/html": [
              "<style>#sk-container-id-1 {color: black;background-color: white;}#sk-container-id-1 pre{padding: 0;}#sk-container-id-1 div.sk-toggleable {background-color: white;}#sk-container-id-1 label.sk-toggleable__label {cursor: pointer;display: block;width: 100%;margin-bottom: 0;padding: 0.3em;box-sizing: border-box;text-align: center;}#sk-container-id-1 label.sk-toggleable__label-arrow:before {content: \"▸\";float: left;margin-right: 0.25em;color: #696969;}#sk-container-id-1 label.sk-toggleable__label-arrow:hover:before {color: black;}#sk-container-id-1 div.sk-estimator:hover label.sk-toggleable__label-arrow:before {color: black;}#sk-container-id-1 div.sk-toggleable__content {max-height: 0;max-width: 0;overflow: hidden;text-align: left;background-color: #f0f8ff;}#sk-container-id-1 div.sk-toggleable__content pre {margin: 0.2em;color: black;border-radius: 0.25em;background-color: #f0f8ff;}#sk-container-id-1 input.sk-toggleable__control:checked~div.sk-toggleable__content {max-height: 200px;max-width: 100%;overflow: auto;}#sk-container-id-1 input.sk-toggleable__control:checked~label.sk-toggleable__label-arrow:before {content: \"▾\";}#sk-container-id-1 div.sk-estimator input.sk-toggleable__control:checked~label.sk-toggleable__label {background-color: #d4ebff;}#sk-container-id-1 div.sk-label input.sk-toggleable__control:checked~label.sk-toggleable__label {background-color: #d4ebff;}#sk-container-id-1 input.sk-hidden--visually {border: 0;clip: rect(1px 1px 1px 1px);clip: rect(1px, 1px, 1px, 1px);height: 1px;margin: -1px;overflow: hidden;padding: 0;position: absolute;width: 1px;}#sk-container-id-1 div.sk-estimator {font-family: monospace;background-color: #f0f8ff;border: 1px dotted black;border-radius: 0.25em;box-sizing: border-box;margin-bottom: 0.5em;}#sk-container-id-1 div.sk-estimator:hover {background-color: #d4ebff;}#sk-container-id-1 div.sk-parallel-item::after {content: \"\";width: 100%;border-bottom: 1px solid gray;flex-grow: 1;}#sk-container-id-1 div.sk-label:hover label.sk-toggleable__label {background-color: #d4ebff;}#sk-container-id-1 div.sk-serial::before {content: \"\";position: absolute;border-left: 1px solid gray;box-sizing: border-box;top: 0;bottom: 0;left: 50%;z-index: 0;}#sk-container-id-1 div.sk-serial {display: flex;flex-direction: column;align-items: center;background-color: white;padding-right: 0.2em;padding-left: 0.2em;position: relative;}#sk-container-id-1 div.sk-item {position: relative;z-index: 1;}#sk-container-id-1 div.sk-parallel {display: flex;align-items: stretch;justify-content: center;background-color: white;position: relative;}#sk-container-id-1 div.sk-item::before, #sk-container-id-1 div.sk-parallel-item::before {content: \"\";position: absolute;border-left: 1px solid gray;box-sizing: border-box;top: 0;bottom: 0;left: 50%;z-index: -1;}#sk-container-id-1 div.sk-parallel-item {display: flex;flex-direction: column;z-index: 1;position: relative;background-color: white;}#sk-container-id-1 div.sk-parallel-item:first-child::after {align-self: flex-end;width: 50%;}#sk-container-id-1 div.sk-parallel-item:last-child::after {align-self: flex-start;width: 50%;}#sk-container-id-1 div.sk-parallel-item:only-child::after {width: 0;}#sk-container-id-1 div.sk-dashed-wrapped {border: 1px dashed gray;margin: 0 0.4em 0.5em 0.4em;box-sizing: border-box;padding-bottom: 0.4em;background-color: white;}#sk-container-id-1 div.sk-label label {font-family: monospace;font-weight: bold;display: inline-block;line-height: 1.2em;}#sk-container-id-1 div.sk-label-container {text-align: center;}#sk-container-id-1 div.sk-container {/* jupyter's `normalize.less` sets `[hidden] { display: none; }` but bootstrap.min.css set `[hidden] { display: none !important; }` so we also need the `!important` here to be able to override the default hidden behavior on the sphinx rendered scikit-learn.org. See: https://github.com/scikit-learn/scikit-learn/issues/21755 */display: inline-block !important;position: relative;}#sk-container-id-1 div.sk-text-repr-fallback {display: none;}</style><div id=\"sk-container-id-1\" class=\"sk-top-container\"><div class=\"sk-text-repr-fallback\"><pre>DecisionTreeClassifier(random_state=42)</pre><b>In a Jupyter environment, please rerun this cell to show the HTML representation or trust the notebook. <br />On GitHub, the HTML representation is unable to render, please try loading this page with nbviewer.org.</b></div><div class=\"sk-container\" hidden><div class=\"sk-item\"><div class=\"sk-estimator sk-toggleable\"><input class=\"sk-toggleable__control sk-hidden--visually\" id=\"sk-estimator-id-1\" type=\"checkbox\" checked><label for=\"sk-estimator-id-1\" class=\"sk-toggleable__label sk-toggleable__label-arrow\">DecisionTreeClassifier</label><div class=\"sk-toggleable__content\"><pre>DecisionTreeClassifier(random_state=42)</pre></div></div></div></div></div>"
            ]
          },
          "metadata": {},
          "execution_count": 10
        }
      ]
    },
    {
      "cell_type": "code",
      "source": [
        "predictions = model.predict(X)\n"
      ],
      "metadata": {
        "id": "i8iMSQTqWlnn"
      },
      "execution_count": 11,
      "outputs": []
    },
    {
      "cell_type": "code",
      "source": [
        "# Confusion matrix\n",
        "conf_matrix = confusion_matrix(y, predictions)\n",
        "print(\"Confusion Matrix:\")\n",
        "print(conf_matrix)"
      ],
      "metadata": {
        "id": "HZpO5tkPWncl",
        "outputId": "232cc8cd-b032-4398-e4a2-9194cbff3cf0",
        "colab": {
          "base_uri": "https://localhost:8080/"
        }
      },
      "execution_count": 12,
      "outputs": [
        {
          "output_type": "stream",
          "name": "stdout",
          "text": [
            "Confusion Matrix:\n",
            "[[13376     0]\n",
            " [    0 16126]]\n"
          ]
        }
      ]
    },
    {
      "cell_type": "code",
      "source": [
        "# Extracting TP, FP, TN, FN\n",
        "TP = conf_matrix[1, 1]\n",
        "FP = conf_matrix[0, 1]\n",
        "TN = conf_matrix[0, 0]\n",
        "FN = conf_matrix[1, 0]\n",
        "\n"
      ],
      "metadata": {
        "id": "zDcwrSPEWooS"
      },
      "execution_count": 13,
      "outputs": []
    },
    {
      "cell_type": "code",
      "source": [
        "print(\"TP:\", TP)\n",
        "print(\"FP:\", FP)\n",
        "print(\"TN:\", TN)\n",
        "print(\"FN:\", FN)"
      ],
      "metadata": {
        "id": "Eq1-BlWTWqVT",
        "outputId": "4c724c23-3fcd-4068-9c9b-080553eacd3a",
        "colab": {
          "base_uri": "https://localhost:8080/"
        }
      },
      "execution_count": 14,
      "outputs": [
        {
          "output_type": "stream",
          "name": "stdout",
          "text": [
            "TP: 16126\n",
            "FP: 0\n",
            "TN: 13376\n",
            "FN: 0\n"
          ]
        }
      ]
    },
    {
      "cell_type": "markdown",
      "source": [
        "# **QUESTION 2**"
      ],
      "metadata": {
        "id": "O6jSCiarWuid"
      }
    },
    {
      "cell_type": "code",
      "source": [
        "# Cost-Benefit Matrix\n",
        "benefit_TP = 75  # Benefit for True Positive\n",
        "cost_FP = 25     # Cost for False Positive\n",
        "\n"
      ],
      "metadata": {
        "id": "TJqJKFV8W6bL"
      },
      "execution_count": 15,
      "outputs": []
    },
    {
      "cell_type": "code",
      "source": [
        "# Calculate profit\n",
        "profit = TP * benefit_TP - FP * cost_FP\n",
        "print(\"Profit:\", profit)"
      ],
      "metadata": {
        "id": "R8yTgwm1XCAo",
        "outputId": "b41accf5-8bb4-4f4f-a479-0180330945bc",
        "colab": {
          "base_uri": "https://localhost:8080/"
        }
      },
      "execution_count": 16,
      "outputs": [
        {
          "output_type": "stream",
          "name": "stdout",
          "text": [
            "Profit: 1209450\n"
          ]
        }
      ]
    },
    {
      "cell_type": "markdown",
      "source": [
        "# **question 3**"
      ],
      "metadata": {
        "id": "Emt5n2R3XC-C"
      }
    },
    {
      "cell_type": "code",
      "source": [
        "print(df_customer_data.columns)\n"
      ],
      "metadata": {
        "id": "xnIFnZCTXe8j",
        "outputId": "8ea505c5-2f7f-4841-e827-75715c47f105",
        "colab": {
          "base_uri": "https://localhost:8080/"
        }
      },
      "execution_count": 20,
      "outputs": [
        {
          "output_type": "stream",
          "name": "stdout",
          "text": [
            "Index(['income', 'female', 'age', 'job', 'num_dependents', 'rent', 'own_res',\n",
            "       'new_car', 'chk_acct', 'sav_acct', 'num_accts', 'mobile',\n",
            "       'customer_id'],\n",
            "      dtype='object')\n"
          ]
        }
      ]
    },
    {
      "cell_type": "code",
      "source": [
        "total_customers = len(df_customer_data)\n",
        "total_answered = df_customer_data['mobile'].sum()  # Count the number of 1s in the 'mobile' column\n",
        "\n"
      ],
      "metadata": {
        "id": "TGNYhJqwXHQ9"
      },
      "execution_count": 21,
      "outputs": []
    },
    {
      "cell_type": "code",
      "source": [
        "print(\"Total customers:\", total_customers)\n",
        "print(\"Total customers who answered:\", total_answered)"
      ],
      "metadata": {
        "id": "NmoWPdHnXj4g",
        "outputId": "c58f5741-7311-4221-94f9-92851723d328",
        "colab": {
          "base_uri": "https://localhost:8080/"
        }
      },
      "execution_count": 22,
      "outputs": [
        {
          "output_type": "stream",
          "name": "stdout",
          "text": [
            "Total customers: 1000\n",
            "Total customers who answered: 103\n"
          ]
        }
      ]
    }
  ]
}