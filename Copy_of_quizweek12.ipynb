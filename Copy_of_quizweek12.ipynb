{
  "nbformat": 4,
  "nbformat_minor": 0,
  "metadata": {
    "colab": {
      "provenance": [],
      "mount_file_id": "1sA2g-2YFnRl3jMGh9hiYt2tsxv3xa7hM",
      "authorship_tag": "ABX9TyMIsAVoqMfzacOlV2/rN6Im",
      "include_colab_link": true
    },
    "kernelspec": {
      "name": "python3",
      "display_name": "Python 3"
    },
    "language_info": {
      "name": "python"
    }
  },
  "cells": [
    {
      "cell_type": "markdown",
      "metadata": {
        "id": "view-in-github",
        "colab_type": "text"
      },
      "source": [
        "<a href=\"https://colab.research.google.com/github/u1331486/IS-4487-Labs/blob/main/Copy_of_quizweek12.ipynb\" target=\"_parent\"><img src=\"https://colab.research.google.com/assets/colab-badge.svg\" alt=\"Open In Colab\"/></a>"
      ]
    },
    {
      "cell_type": "code",
      "execution_count": 12,
      "metadata": {
        "id": "ep0to9hCSzPy"
      },
      "outputs": [],
      "source": [
        "# Import Libraries\n",
        "import pandas as pd\n",
        "from sklearn.tree import DecisionTreeClassifier\n",
        "from sklearn.metrics import confusion_matrix\n",
        "from sklearn import metrics"
      ]
    },
    {
      "cell_type": "code",
      "source": [
        "from google.colab import drive\n",
        "drive.mount('/content/drive')\n"
      ],
      "metadata": {
        "id": "lmE-GwEhS5tg",
        "colab": {
          "base_uri": "https://localhost:8080/"
        },
        "outputId": "6908054b-5418-49f4-9d95-339984e7388f"
      },
      "execution_count": 13,
      "outputs": [
        {
          "output_type": "stream",
          "name": "stdout",
          "text": [
            "Drive already mounted at /content/drive; to attempt to forcibly remount, call drive.mount(\"/content/drive\", force_remount=True).\n"
          ]
        }
      ]
    },
    {
      "cell_type": "code",
      "source": [
        "# Import Data\n",
        "df = pd.read_csv('/content/drive/MyDrive/Colab Notebooks/adviseinvest.csv')"
      ],
      "metadata": {
        "id": "dRo0uPISTb-i"
      },
      "execution_count": 14,
      "outputs": []
    },
    {
      "cell_type": "code",
      "source": [
        "# Filter out outliers\n",
        "df_new = df[df['num_accts'] <= 5]\n",
        "df_new = df_new[df_new['income'] >= 0]"
      ],
      "metadata": {
        "id": "ijnzGa4hU0Ra"
      },
      "execution_count": 15,
      "outputs": []
    },
    {
      "cell_type": "code",
      "source": [
        "# Remove the product variable from df_new since it is not an independent variable\n",
        "df_new = df_new.drop('product', axis=1)"
      ],
      "metadata": {
        "id": "wEf_U0a5GmyB"
      },
      "execution_count": 16,
      "outputs": []
    },
    {
      "cell_type": "code",
      "source": [
        "# Convert to categories\n",
        "df_new['job'] = df_new['job'].astype('category')\n",
        "df_new['female'] = df_new['female'].astype('category')\n",
        "df_new['rent'] = df_new['rent'].astype('category')\n",
        "df_new['own_res'] = df_new['own_res'].astype('category')\n",
        "df_new['new_car'] = df_new['new_car'].astype('category')\n",
        "df_new['mobile'] = df_new['mobile'].astype('category')\n",
        "df_new['chk_acct'] = df_new['chk_acct'].astype('category')\n",
        "df_new['sav_acct'] = df_new['sav_acct'].astype('category')\n",
        "df_new['answered'] = df_new['answered'].replace({0: 'no', 1: 'yes'})\n",
        "df_new['answered'] = df_new['answered'].astype('category')\n",
        "df_new = df_new.dropna()\n",
        "df_new.info()"
      ],
      "metadata": {
        "colab": {
          "base_uri": "https://localhost:8080/"
        },
        "id": "v-o_d3fCIMcI",
        "outputId": "7bd9ecd6-8300-4430-cb38-202e8a2787c0"
      },
      "execution_count": 17,
      "outputs": [
        {
          "output_type": "stream",
          "name": "stdout",
          "text": [
            "<class 'pandas.core.frame.DataFrame'>\n",
            "Index: 29499 entries, 0 to 29503\n",
            "Data columns (total 13 columns):\n",
            " #   Column          Non-Null Count  Dtype   \n",
            "---  ------          --------------  -----   \n",
            " 0   answered        29499 non-null  category\n",
            " 1   income          29499 non-null  int64   \n",
            " 2   female          29499 non-null  category\n",
            " 3   age             29499 non-null  int64   \n",
            " 4   job             29499 non-null  category\n",
            " 5   num_dependents  29499 non-null  int64   \n",
            " 6   rent            29499 non-null  category\n",
            " 7   own_res         29499 non-null  category\n",
            " 8   new_car         29499 non-null  category\n",
            " 9   chk_acct        29499 non-null  category\n",
            " 10  sav_acct        29499 non-null  category\n",
            " 11  num_accts       29499 non-null  int64   \n",
            " 12  mobile          29499 non-null  category\n",
            "dtypes: category(9), int64(4)\n",
            "memory usage: 1.4 MB\n"
          ]
        }
      ]
    },
    {
      "cell_type": "code",
      "source": [
        "# Proportion that answer (baseline model)\n",
        "num_answered = df_new['answered'].value_counts().get('yes', 0)\n",
        "total_respondents = len(df_new)\n",
        "proportion_answered = num_answered / total_respondents\n",
        "print(\"Proportion that answer:\", proportion_answered)\n"
      ],
      "metadata": {
        "id": "qfHjWTsyG5S8",
        "colab": {
          "base_uri": "https://localhost:8080/"
        },
        "outputId": "4e4a0f46-7261-4034-8e73-c89f88f17aca"
      },
      "execution_count": 18,
      "outputs": [
        {
          "output_type": "stream",
          "name": "stdout",
          "text": [
            "Proportion that answer: 0.5465947998237228\n"
          ]
        }
      ]
    },
    {
      "cell_type": "code",
      "source": [
        "#Tree Model\n",
        "x = df_new[['income', 'female', 'age', 'job', 'num_dependents', 'rent', 'own_res', 'new_car', 'chk_acct', 'sav_acct', 'num_accts', 'mobile']]\n",
        "y = df_new['answered']\n",
        "\n",
        "tree = DecisionTreeClassifier(criterion=\"entropy\", max_depth=4) #use same settings as in Lab 11\n",
        "tree.fit(x, y)\n",
        "y_pred = tree.predict(x)\n",
        "\n",
        "print(\"Accuracy:\",metrics.accuracy_score(y, y_pred))"
      ],
      "metadata": {
        "id": "y_Tii7TgHI70",
        "colab": {
          "base_uri": "https://localhost:8080/"
        },
        "outputId": "8a9081ab-a1b8-4c2b-d79c-5057d695b6c7"
      },
      "execution_count": 19,
      "outputs": [
        {
          "output_type": "stream",
          "name": "stdout",
          "text": [
            "Accuracy: 0.7331434963897081\n"
          ]
        }
      ]
    },
    {
      "cell_type": "code",
      "source": [
        "# Create confusion matrix using a 50% threshold (0.5)\n",
        "y_pred = tree.predict(x)\n",
        "conf_matrix = confusion_matrix(y, y_pred)\n",
        "print(\"Confusion Matrix:\")\n",
        "print(conf_matrix)"
      ],
      "metadata": {
        "colab": {
          "base_uri": "https://localhost:8080/"
        },
        "id": "MttxuTS9HAAo",
        "outputId": "d559cf4a-85e6-45d7-c77b-d80c441fcfa9"
      },
      "execution_count": 20,
      "outputs": [
        {
          "output_type": "stream",
          "name": "stdout",
          "text": [
            "Confusion Matrix:\n",
            "[[11583  1792]\n",
            " [ 6080 10044]]\n"
          ]
        }
      ]
    },
    {
      "cell_type": "code",
      "source": [
        "# Profitability using the model\n",
        "#TP = 10044\n",
        "#FP = 1792\n",
        "\n",
        "benefit = 75\n",
        "cost = -25\n",
        "\n",
        "profit = (10044 * benefit) + (1792 * cost)\n",
        "\n",
        "print(\"Expected profit with model: $\", profit)"
      ],
      "metadata": {
        "id": "5t2KrZ7aHQVZ",
        "colab": {
          "base_uri": "https://localhost:8080/"
        },
        "outputId": "350d1fdc-9932-44f4-d191-8dc0bf5cbcaa"
      },
      "execution_count": 21,
      "outputs": [
        {
          "output_type": "stream",
          "name": "stdout",
          "text": [
            "Expected profit with model: $ 708500\n"
          ]
        }
      ]
    },
    {
      "cell_type": "code",
      "source": [
        "# Baseline Profit (if you call everyone)\n",
        "benefit = 75\n",
        "cost = -25\n",
        "\n",
        "profit_baseline = ((29499 * 0.54659) * benefit) + (cost * (29499 * (1-0.54659)))\n",
        "\n",
        "print(\"Expected profit in basel scenario: $\", profit_baseline)"
      ],
      "metadata": {
        "colab": {
          "base_uri": "https://localhost:8080/"
        },
        "id": "do8fvT8qHTrZ",
        "outputId": "49d752cc-73a7-4ed2-8560-d5a6ecf39368"
      },
      "execution_count": 22,
      "outputs": [
        {
          "output_type": "stream",
          "name": "stdout",
          "text": [
            "Expected profit in basel scenario: $ 874910.841\n"
          ]
        }
      ]
    }
  ]
}