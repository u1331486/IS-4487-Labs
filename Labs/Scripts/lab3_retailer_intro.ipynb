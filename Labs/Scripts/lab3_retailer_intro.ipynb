{
  "cells": [
    {
      "cell_type": "markdown",
      "metadata": {
        "id": "MLi9pO-sYhgz"
      },
      "source": [
        "# IS 4487 Lab 3\n",
        "\n",
        "## Outline\n",
        "\n",
        "Repeat exercises from Lab 2, but with the *SuperStore Retail Orders* dataset\n",
        "- Loading installed packages\n",
        "- Inspect data\n",
        "- Explore plot types\n",
        "\n",
        "<a href=\"https://colab.research.google.com/github/Stan-Pugsley/is_4487_base/blob/main/Labs/Scripts/lab3_retailer_intro.ipynb\" target=\"_parent\"><img src=\"https://colab.research.google.com/assets/colab-badge.svg\" alt=\"Open In Colab\"/></a>"
      ]
    },
    {
      "cell_type": "markdown",
      "metadata": {
        "id": "Od48dvYCYhg1"
      },
      "source": [
        "## Load Libraries\n",
        "\n",
        "➡️ Assignment Tasks\n",
        "- Load any necessary libraries"
      ]
    },
    {
      "cell_type": "code",
      "execution_count": 12,
      "metadata": {
        "vscode": {
          "languageId": "plaintext"
        },
        "id": "uJoUz-mCYhg2"
      },
      "outputs": [],
      "source": [
        "\n",
        "import pandas as pd\n",
        "import matplotlib as mpl\n",
        "import sklearn as sl"
      ]
    },
    {
      "cell_type": "markdown",
      "metadata": {
        "id": "zeMUVOKuYhg2"
      },
      "source": [
        "## Import Data into Dataframe\n",
        "\n",
        "➡️ Assignment Tasks\n",
        "- Import data from the SuperStore retail dataset into a dataframe (in GitHub go to Labs > DataSets)\n",
        "- Describe or profile the dataframe"
      ]
    },
    {
      "cell_type": "code",
      "execution_count": 14,
      "metadata": {
        "vscode": {
          "languageId": "plaintext"
        },
        "colab": {
          "base_uri": "https://localhost:8080/"
        },
        "id": "J7RrX3AHYhg2",
        "outputId": "f2577b7f-467a-4498-b010-f9c19f97837e"
      },
      "outputs": [
        {
          "output_type": "stream",
          "name": "stdout",
          "text": [
            "Mounted at /content/gdrive\n",
            "      customer_id      customer_name          address_line_1          city  \\\n",
            "0              67      Gordy Matteau     59 Northland Circle    Wilmington   \n",
            "1             201     Cort Paskerful         769 Buell Drive    Huntsville   \n",
            "2              45    Willetta Lumley       41 Ridgeway Alley        Irvine   \n",
            "3             106   Alison Batterton           489 Erie Hill      Richmond   \n",
            "4             357  Martelle Paxeford    451 Manitowish Place      Richmond   \n",
            "...           ...                ...                     ...           ...   \n",
            "9564          637  Jayson Andriessen  0819 Crownhardt Circle     Allentown   \n",
            "9565          370    Darby Tesseyman     7468 Jackson Circle        Albany   \n",
            "9566          598   Henka De Ferrari      89 Sunnyside Drive  Redwood City   \n",
            "9567          737    Tommie Penvarne    9630 Washington Hill     Watertown   \n",
            "9568          482       Matelda Bull      6406 Bultman Alley  Gaithersburg   \n",
            "\n",
            "      state_province  postal_code  order_id  order_date  customer_id.1  \\\n",
            "0                DE       19805.0      1001  2020-01-11             67   \n",
            "1                AL       35810.0      1002  2019-11-22            201   \n",
            "2                CA       92612.0      1003  2019-09-17             45   \n",
            "3                VA       23293.0      1004  2019-12-09            106   \n",
            "4                VA       23293.0      1005  2019-06-08            357   \n",
            "...              ...          ...       ...         ...            ...   \n",
            "9564  Pennsylvania            NaN      8143  2021-06-13            637   \n",
            "9565             NY       12210.0      8144  2021-06-16            370   \n",
            "9566     California       94064.0      8145  2021-05-09            598   \n",
            "9567  Massachusetts        2472.0      8146  2021-04-13            737   \n",
            "9568       Maryland       20883.0      8147  2021-03-21            482   \n",
            "\n",
            "      order_id.1  product_id  quantity  product_id.1            product_name  \\\n",
            "0           1001         106       3.0           106       Great value Juice   \n",
            "1           1002         104       2.0           104                    Desk   \n",
            "2           1003         107       5.0           107          Dove deodorant   \n",
            "3           1004         106       8.0           106       Great value Juice   \n",
            "4           1005         107       7.0           107          Dove deodorant   \n",
            "...          ...         ...       ...           ...                     ...   \n",
            "9564        8143         113      16.0           113          Extension cord   \n",
            "9565        8144         109       1.0           109  Samsung Galaxy Note 10   \n",
            "9566        8145         110       1.0           110         Apple iPad Mini   \n",
            "9567        8146         113       2.0           113          Extension cord   \n",
            "9568        8147         113       5.0           113          Extension cord   \n",
            "\n",
            "     product_price total_amount order_year_month order_month  \n",
            "0            $1.99        $5.97          2020-01    January   \n",
            "1           $85.98      $171.96          2019-11   November   \n",
            "2            $3.99       $19.95          2019-09   September  \n",
            "3            $1.99       $15.92          2019-12   December   \n",
            "4            $3.99       $27.93          2019-06       June   \n",
            "...            ...          ...              ...         ...  \n",
            "9564        $15.59      $249.44          2021-06       June   \n",
            "9565       $749.99      $749.99          2021-06       June   \n",
            "9566       $329.99      $329.99          2021-05        May   \n",
            "9567        $15.59       $31.18          2021-04      April   \n",
            "9568        $15.59       $77.95          2021-03      March   \n",
            "\n",
            "[9569 rows x 18 columns]\n"
          ]
        }
      ],
      "source": [
        "from google.colab import drive\n",
        "drive.mount('/content/gdrive', force_remount=True)\n",
        "\n",
        "df = pd.read_csv (r'/content/gdrive/MyDrive/Colab Notebooks/superstore_retail_orders.csv')\n",
        "\n",
        "print (df)"
      ]
    },
    {
      "cell_type": "markdown",
      "metadata": {
        "id": "mFe4beLcYhg2"
      },
      "source": [
        "## Prepare Data\n",
        "\n",
        "➡️ Assignment Tasks\n",
        "- Convert the Total_Amount into a number (not a string)\n",
        "- Remove rows with empty (NULL) values\n",
        "- Optional: Locate outliers in any of the variables.   Filter them out if they are mistakes; keep them if they are exceptional cases."
      ]
    },
    {
      "cell_type": "code",
      "source": [
        "print(df['total_amount'].dtype)\n"
      ],
      "metadata": {
        "colab": {
          "base_uri": "https://localhost:8080/"
        },
        "id": "qtflqUWLbjr-",
        "outputId": "16188205-3ca2-4f88-dab3-e1415405b3fa"
      },
      "execution_count": 20,
      "outputs": [
        {
          "output_type": "stream",
          "name": "stdout",
          "text": [
            "float64\n"
          ]
        }
      ]
    },
    {
      "cell_type": "markdown",
      "source": [
        "Since the data type of the 'total_amount' column is float64 its already in numeric format."
      ],
      "metadata": {
        "id": "Ujei6nyocZ3r"
      }
    },
    {
      "cell_type": "code",
      "execution_count": 21,
      "metadata": {
        "vscode": {
          "languageId": "plaintext"
        },
        "id": "7Bj83FjTYhg2"
      },
      "outputs": [],
      "source": [
        "df['total_amount'] = pd.to_numeric(df['total_amount'], errors='coerce')\n"
      ]
    },
    {
      "cell_type": "markdown",
      "source": [
        "Remove null values with dropna function"
      ],
      "metadata": {
        "id": "AePh9LiObzlX"
      }
    },
    {
      "cell_type": "code",
      "source": [
        "df = df.dropna()\n",
        "print(df.isnull().sum())"
      ],
      "metadata": {
        "colab": {
          "base_uri": "https://localhost:8080/"
        },
        "id": "m_zwLQ0qb2gu",
        "outputId": "2127b7ee-c644-4ca0-914e-75cc8d5f893d"
      },
      "execution_count": 28,
      "outputs": [
        {
          "output_type": "stream",
          "name": "stdout",
          "text": [
            "customer_id         0\n",
            "customer_name       0\n",
            "address_line_1      0\n",
            "city                0\n",
            "state_province      0\n",
            "postal_code         0\n",
            "order_id            0\n",
            "order_date          0\n",
            "customer_id.1       0\n",
            "order_id.1          0\n",
            "product_id          0\n",
            "quantity            0\n",
            "product_id.1        0\n",
            "product_name        0\n",
            "product_price       0\n",
            "total_amount        0\n",
            "order_year_month    0\n",
            "order_month         0\n",
            "dtype: int64\n"
          ]
        }
      ]
    },
    {
      "cell_type": "code",
      "source": [
        "from scipy import stats\n"
      ],
      "metadata": {
        "id": "i2_rnASWb9J5"
      },
      "execution_count": 23,
      "outputs": []
    },
    {
      "cell_type": "code",
      "source": [
        "z_scores = stats.zscore(df['total_amount'])\n",
        "threshold = 3\n",
        "df = df[(z_scores < threshold)]"
      ],
      "metadata": {
        "id": "4Q9Viq5Bb_ID"
      },
      "execution_count": 25,
      "outputs": []
    },
    {
      "cell_type": "code",
      "source": [
        "print(df)\n"
      ],
      "metadata": {
        "colab": {
          "base_uri": "https://localhost:8080/"
        },
        "id": "MivGfcsYcAI0",
        "outputId": "d50b9332-3896-4dbf-f5e0-730b4e2432d9"
      },
      "execution_count": 26,
      "outputs": [
        {
          "output_type": "stream",
          "name": "stdout",
          "text": [
            "      customer_id      customer_name        address_line_1          city  \\\n",
            "0              67      Gordy Matteau   59 Northland Circle    Wilmington   \n",
            "1             201     Cort Paskerful       769 Buell Drive    Huntsville   \n",
            "2              45    Willetta Lumley     41 Ridgeway Alley        Irvine   \n",
            "3             106   Alison Batterton         489 Erie Hill      Richmond   \n",
            "4             357  Martelle Paxeford  451 Manitowish Place      Richmond   \n",
            "...           ...                ...                   ...           ...   \n",
            "9561          240     Barnard Hatley        5541 Kim Alley        Duluth   \n",
            "9565          370    Darby Tesseyman   7468 Jackson Circle        Albany   \n",
            "9566          598   Henka De Ferrari    89 Sunnyside Drive  Redwood City   \n",
            "9567          737    Tommie Penvarne  9630 Washington Hill     Watertown   \n",
            "9568          482       Matelda Bull    6406 Bultman Alley  Gaithersburg   \n",
            "\n",
            "      state_province  postal_code  order_id  order_date  customer_id.1  \\\n",
            "0                DE       19805.0      1001  2020-01-11             67   \n",
            "1                AL       35810.0      1002  2019-11-22            201   \n",
            "2                CA       92612.0      1003  2019-09-17             45   \n",
            "3                VA       23293.0      1004  2019-12-09            106   \n",
            "4                VA       23293.0      1005  2019-06-08            357   \n",
            "...              ...          ...       ...         ...            ...   \n",
            "9561             GA       30195.0      8140  2021-03-04            240   \n",
            "9565             NY       12210.0      8144  2021-06-16            370   \n",
            "9566     California       94064.0      8145  2021-05-09            598   \n",
            "9567  Massachusetts        2472.0      8146  2021-04-13            737   \n",
            "9568       Maryland       20883.0      8147  2021-03-21            482   \n",
            "\n",
            "      order_id.1  product_id  quantity  product_id.1            product_name  \\\n",
            "0           1001         106       3.0           106       Great value Juice   \n",
            "1           1002         104       2.0           104                    Desk   \n",
            "2           1003         107       5.0           107          Dove deodorant   \n",
            "3           1004         106       8.0           106       Great value Juice   \n",
            "4           1005         107       7.0           107          Dove deodorant   \n",
            "...          ...         ...       ...           ...                     ...   \n",
            "9561        8140         110       1.0           110         Apple iPad Mini   \n",
            "9565        8144         109       1.0           109  Samsung Galaxy Note 10   \n",
            "9566        8145         110       1.0           110         Apple iPad Mini   \n",
            "9567        8146         113       2.0           113          Extension cord   \n",
            "9568        8147         113       5.0           113          Extension cord   \n",
            "\n",
            "     product_price  total_amount order_year_month order_month  \n",
            "0            $1.99          5.97          2020-01    January   \n",
            "1           $85.98        171.96          2019-11   November   \n",
            "2            $3.99         19.95          2019-09   September  \n",
            "3            $1.99         15.92          2019-12   December   \n",
            "4            $3.99         27.93          2019-06       June   \n",
            "...            ...           ...              ...         ...  \n",
            "9561       $329.99        329.99          2021-03      March   \n",
            "9565       $749.99        749.99          2021-06       June   \n",
            "9566       $329.99        329.99          2021-05        May   \n",
            "9567        $15.59         31.18          2021-04      April   \n",
            "9568        $15.59         77.95          2021-03      March   \n",
            "\n",
            "[8768 rows x 18 columns]\n"
          ]
        }
      ]
    },
    {
      "cell_type": "markdown",
      "metadata": {
        "id": "3cxv3a2uYhg3"
      },
      "source": [
        "## Summarize Data\n",
        "\n",
        "➡️ Assignment Tasks\n",
        "- Display the average price per month\n",
        "- Display the total revenue for all months"
      ]
    },
    {
      "cell_type": "code",
      "execution_count": null,
      "metadata": {
        "vscode": {
          "languageId": "plaintext"
        },
        "id": "ovSpJ1k1Yhg3"
      },
      "outputs": [],
      "source": [
        "#average price"
      ]
    },
    {
      "cell_type": "markdown",
      "source": [
        "**Average price per month**:"
      ],
      "metadata": {
        "id": "KwagiINUeE4n"
      }
    },
    {
      "cell_type": "code",
      "source": [
        "average_price_per_month = df.groupby('order_month')['total_amount'].mean()\n",
        "print(average_price_per_month)"
      ],
      "metadata": {
        "colab": {
          "base_uri": "https://localhost:8080/"
        },
        "id": "hHyYDKIpdd3G",
        "outputId": "d362ffb3-c2d4-40f7-a9db-9b3adb07222b"
      },
      "execution_count": 33,
      "outputs": [
        {
          "output_type": "stream",
          "name": "stdout",
          "text": [
            "order_month\n",
            "April        322.324759\n",
            "August       317.430445\n",
            "December     308.411832\n",
            "February     306.211115\n",
            "January      292.060346\n",
            "July         293.337456\n",
            "June         329.207158\n",
            "March        303.960014\n",
            "May          311.296518\n",
            "November     302.205572\n",
            "October      349.624011\n",
            "September    323.528796\n",
            "Name: total_amount, dtype: float64\n"
          ]
        }
      ]
    },
    {
      "cell_type": "markdown",
      "source": [
        "\n",
        "\n",
        "\n",
        "---\n",
        "\n",
        "\n",
        "\n",
        "**Average price per month considering both the year and month**:\n"
      ],
      "metadata": {
        "id": "wMGLQZWqeL4k"
      }
    },
    {
      "cell_type": "code",
      "source": [
        "from re import A\n",
        "aaverage_price_per_month = df.groupby('order_year_month')['total_amount'].mean()\n",
        "print(aaverage_price_per_month)"
      ],
      "metadata": {
        "colab": {
          "base_uri": "https://localhost:8080/"
        },
        "id": "UY2cqjMQd-16",
        "outputId": "9f47a05b-7fdf-452b-d77c-eadb910a961d"
      },
      "execution_count": 34,
      "outputs": [
        {
          "output_type": "stream",
          "name": "stdout",
          "text": [
            "order_year_month\n",
            "2019-02    309.599947\n",
            "2019-03    316.122176\n",
            "2019-04    327.736575\n",
            "2019-05    319.580898\n",
            "2019-06    336.989712\n",
            "2019-07    292.175024\n",
            "2019-08    324.951185\n",
            "2019-09    325.619076\n",
            "2019-10    357.240905\n",
            "2019-11    297.083748\n",
            "2019-12    321.017899\n",
            "2020-01    291.589188\n",
            "2020-02    304.212895\n",
            "2020-03    246.295897\n",
            "2020-04    300.356582\n",
            "2020-05    285.122013\n",
            "2020-06    293.329618\n",
            "2020-07    309.681228\n",
            "2020-08    288.717959\n",
            "2020-09    314.584341\n",
            "2020-10    310.423276\n",
            "2020-11    327.773387\n",
            "2020-12    245.483984\n",
            "2021-01    293.924786\n",
            "2021-02    368.730000\n",
            "2021-03    279.360833\n",
            "2021-04    332.131429\n",
            "2021-05    226.770769\n",
            "2021-06    314.285455\n",
            "2021-07    197.840000\n",
            "2021-08    227.448333\n",
            "Name: total_amount, dtype: float64\n"
          ]
        }
      ]
    },
    {
      "cell_type": "code",
      "execution_count": null,
      "metadata": {
        "vscode": {
          "languageId": "plaintext"
        },
        "id": "nko-vw47Yhg3"
      },
      "outputs": [],
      "source": [
        "#total revenue"
      ]
    },
    {
      "cell_type": "markdown",
      "source": [
        "\n",
        "\n",
        "---\n",
        "\n",
        "\n",
        "# **Total Revenue**:"
      ],
      "metadata": {
        "id": "J_ih58cAeyTD"
      }
    },
    {
      "cell_type": "code",
      "source": [
        "total_revenue = df['total_amount'].sum()\n",
        "print(f\"Total Revenue for All Months: ${total_revenue:.2f}\")"
      ],
      "metadata": {
        "colab": {
          "base_uri": "https://localhost:8080/"
        },
        "id": "JlDAnFmQdNhd",
        "outputId": "1e574824-48cd-4e5b-981f-bd13cfb1ac58"
      },
      "execution_count": 31,
      "outputs": [
        {
          "output_type": "stream",
          "name": "stdout",
          "text": [
            "Total Revenue for All Months: $2748529.89\n"
          ]
        }
      ]
    }
  ],
  "metadata": {
    "language_info": {
      "name": "python"
    },
    "colab": {
      "provenance": []
    },
    "kernelspec": {
      "name": "python3",
      "display_name": "Python 3"
    }
  },
  "nbformat": 4,
  "nbformat_minor": 0
}