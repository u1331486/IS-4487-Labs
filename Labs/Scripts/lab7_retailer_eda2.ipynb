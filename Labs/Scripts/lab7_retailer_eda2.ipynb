{
  "cells": [
    {
      "cell_type": "markdown",
      "metadata": {
        "id": "597QaLw0CTjC"
      },
      "source": [
        "# IS 4487 Lab 7\n",
        "\n",
        "## Outline\n",
        "\n",
        "Begin where you left on in Lab 6 with the *SuperStore Retail Orders* dataset\n",
        "\n",
        "<a href=\"https://colab.research.google.com/github/Stan-Pugsley/is_4487_base/blob/main/Labs/Scripts/lab7_retailer_eda2.ipynb\" target=\"_parent\"><img src=\"https://colab.research.google.com/assets/colab-badge.svg\" alt=\"Open In Colab\"/></a>"
      ]
    },
    {
      "cell_type": "markdown",
      "metadata": {
        "id": "FJyemv5DCTjD"
      },
      "source": [
        "## Load Libraries\n",
        "\n",
        "➡️ Assignment Tasks\n",
        "- Load any necessary libraries"
      ]
    },
    {
      "cell_type": "code",
      "execution_count": 22,
      "metadata": {
        "vscode": {
          "languageId": "plaintext"
        },
        "id": "6Bq7hcnsCTjD"
      },
      "outputs": [],
      "source": [
        "import matplotlib.pyplot as plt\n",
        "import pandas as pd\n",
        "import matplotlib as mpl\n",
        "import sklearn as sl"
      ]
    },
    {
      "cell_type": "markdown",
      "metadata": {
        "id": "a38ue1LgCTjE"
      },
      "source": [
        "## Import Data into Dataframe\n",
        "\n",
        "➡️ Assignment Tasks\n",
        "- Import data from the SuperStore retail dataset into a dataframe (in GitHub go to Labs > DataSets)\n",
        "- Describe or profile the dataframe"
      ]
    },
    {
      "cell_type": "code",
      "execution_count": 5,
      "metadata": {
        "vscode": {
          "languageId": "plaintext"
        },
        "colab": {
          "base_uri": "https://localhost:8080/"
        },
        "id": "Pmf9IOQvCTjE",
        "outputId": "a3d7cec5-d2d7-419f-9ed9-f2908aa63fc1"
      },
      "outputs": [
        {
          "output_type": "stream",
          "name": "stdout",
          "text": [
            "Mounted at /content/gdrive\n",
            "       order_id  order_date order_year_month     customer_name  \\\n",
            "0         51188  2021-07-01          2021-07     Audrey Blanco   \n",
            "1         51187  2021-07-01          2021-07       Isaac Allen   \n",
            "2         51199  2021-07-02          2021-07        Ian Morgan   \n",
            "3         51241  2021-07-04          2021-07        Alexa Bell   \n",
            "4         51297  2021-07-08          2021-07        Casey Diaz   \n",
            "...         ...         ...              ...               ...   \n",
            "56040     74084  2022-06-29          2022-06        Ian Rogers   \n",
            "56041     74062  2022-06-29          2022-06   Marcus Anderson   \n",
            "56042     74065  2022-06-29          2022-06  Nathaniel Howard   \n",
            "56043     74038  2022-06-29          2022-06        Robin Sanz   \n",
            "56044     74110  2022-06-30          2022-06   Mallory Jimenez   \n",
            "\n",
            "                    city             state_province  quantity  \\\n",
            "0      North Cherylmouth  NEW HAMPSHIRE                   3.0   \n",
            "1             Traceyland  WEST VIRGINIA                   4.0   \n",
            "2              Dylanberg  SOUTH DAKOTA                    5.0   \n",
            "3         Lake Tracytown  WISCONSIN                       1.0   \n",
            "4            Byrdchester  MISSISSIPPI                     1.0   \n",
            "...                  ...                        ...       ...   \n",
            "56040          Port Mark  ALABAMA                         1.0   \n",
            "56041     West Aprilfurt  NEBRASKA                        1.0   \n",
            "56042      New Lindaview  ILLINOIS                        1.0   \n",
            "56043    West Frankhaven  ARKANSAS                        1.0   \n",
            "56044        Dillonhaven  MARYLAND                        1.0   \n",
            "\n",
            "                                            product_name product_line  \\\n",
            "0      Apple iPhone XR (Yellow, 256 GB) (Includes Ear...       Mobile   \n",
            "1      Apple iPhone XR (Yellow, 256 GB) (Includes Ear...       Mobile   \n",
            "2      Apple iPhone XR (Yellow, 256 GB) (Includes Ear...       Mobile   \n",
            "3      Apple iPhone XR (Yellow, 256 GB) (Includes Ear...       Mobile   \n",
            "4      Apple iPhone XR (Yellow, 256 GB) (Includes Ear...       Mobile   \n",
            "...                                                  ...          ...   \n",
            "56040  Samsung Galaxy S20 FE 5G (Cloud Navy, 8GB RAM,...  Electronics   \n",
            "56041  Samsung Galaxy S20 FE 5G (Cloud Navy, 8GB RAM,...  Electronics   \n",
            "56042  Samsung Galaxy S20 FE 5G (Cloud Navy, 8GB RAM,...  Electronics   \n",
            "56043  Samsung Galaxy S20 FE 5G (Cloud Navy, 8GB RAM,...  Electronics   \n",
            "56044  Samsung Galaxy S20 FE 5G (Cloud Navy, 8GB RAM,...  Electronics   \n",
            "\n",
            "       product_price  \n",
            "0             649.99  \n",
            "1             649.99  \n",
            "2             649.99  \n",
            "3             649.99  \n",
            "4             649.99  \n",
            "...              ...  \n",
            "56040         914.62  \n",
            "56041         914.62  \n",
            "56042         914.62  \n",
            "56043         914.62  \n",
            "56044         914.62  \n",
            "\n",
            "[56045 rows x 10 columns]\n"
          ]
        }
      ],
      "source": [
        "from google.colab import drive\n",
        "drive.mount('/content/gdrive', force_remount=True)\n",
        "\n",
        "df = pd.read_csv (r'/content/gdrive/MyDrive/Colab Notebooks/superstore_retail_orders (2).csv')\n",
        "\n",
        "print (df)\n"
      ]
    },
    {
      "cell_type": "markdown",
      "metadata": {
        "id": "codrZd7_CTjE"
      },
      "source": [
        "Prepare Data\n",
        "\n",
        "➡️ Assignment Tasks\n",
        "- Convert any numbers into the correct datatype if they are not already numeric\n",
        "- Convert any character variables in to factors if they are appropriate for that datatype\n",
        "- Check for outliers.   Remove any outliers that appear to be mistakes\n",
        "- Remove rows with empty (NULL) values\n",
        "- Identify at least one variable with a missing value that can be imputed.   Fill in those empty values.\n",
        "- Add a \"total_amount\" variable based on the quantity and price"
      ]
    },
    {
      "cell_type": "code",
      "execution_count": null,
      "metadata": {
        "vscode": {
          "languageId": "plaintext"
        },
        "id": "pEfumKjeCTjE"
      },
      "outputs": [],
      "source": [
        "#data preparation"
      ]
    },
    {
      "cell_type": "code",
      "source": [
        "# Convert non-numeric columns with numerical data into the correct datatype\n",
        "df['order_date'] = pd.to_datetime(df['order_date'], errors='coerce')\n",
        "df['order_year_month'] = pd.to_datetime(df['order_year_month'], errors='coerce')\n",
        "df['quantity'] = pd.to_numeric(df['quantity'], errors='coerce')"
      ],
      "metadata": {
        "id": "77bskCz7DOUY"
      },
      "execution_count": 8,
      "outputs": []
    },
    {
      "cell_type": "code",
      "execution_count": null,
      "metadata": {
        "vscode": {
          "languageId": "plaintext"
        },
        "id": "S74DfvomCTjE"
      },
      "outputs": [],
      "source": [
        "#outlier check and cleanup"
      ]
    },
    {
      "cell_type": "code",
      "source": [
        "# Check for errors in date conversion\n",
        "print(df[df['order_date'].isnull()]['order_date'])"
      ],
      "metadata": {
        "colab": {
          "base_uri": "https://localhost:8080/"
        },
        "id": "j-gB0xxSDW1N",
        "outputId": "d8fe1f64-1830-4ccc-a4f7-715669f45e48"
      },
      "execution_count": 9,
      "outputs": [
        {
          "output_type": "stream",
          "name": "stdout",
          "text": [
            "736     NaT\n",
            "2245    NaT\n",
            "2770    NaT\n",
            "3223    NaT\n",
            "3720    NaT\n",
            "         ..\n",
            "53939   NaT\n",
            "54191   NaT\n",
            "54198   NaT\n",
            "54199   NaT\n",
            "56039   NaT\n",
            "Name: order_date, Length: 87, dtype: datetime64[ns]\n"
          ]
        }
      ]
    },
    {
      "cell_type": "code",
      "source": [
        "\n",
        "# Remove rows with invalid date values\n",
        "df = df.dropna(subset=['order_date'])"
      ],
      "metadata": {
        "id": "DHoLf1OBDaLe"
      },
      "execution_count": 10,
      "outputs": []
    },
    {
      "cell_type": "code",
      "source": [
        "# Convert appropriate character variables into factors (assuming product_line and state_province are categorical)\n",
        "df['product_line'] = df['product_line'].astype('category')\n",
        "df['state_province'] = df['state_province'].astype('category')"
      ],
      "metadata": {
        "id": "Im-ZmbW-Db9x"
      },
      "execution_count": 11,
      "outputs": []
    },
    {
      "cell_type": "code",
      "source": [
        "# Remove rows with empty (NULL) values\n",
        "df = df.dropna()"
      ],
      "metadata": {
        "id": "V_hafaExDfut"
      },
      "execution_count": 12,
      "outputs": []
    },
    {
      "cell_type": "code",
      "source": [
        "# Identify a variable with missing values and impute them (let's assume 'quantity' has some missing values)\n",
        "# For simplicity, we'll impute missing values with the mean of the column\n",
        "df['quantity'].fillna(df['quantity'].mean(), inplace=True)"
      ],
      "metadata": {
        "id": "uP3c_PVcDhbM"
      },
      "execution_count": 13,
      "outputs": []
    },
    {
      "cell_type": "code",
      "source": [
        "df['total_amount'] = df['quantity'] * df['product_price']\n"
      ],
      "metadata": {
        "id": "a_gdifiTDkgY"
      },
      "execution_count": 14,
      "outputs": []
    },
    {
      "cell_type": "code",
      "source": [
        "# Describe or profile the dataframe\n",
        "print(df.describe())\n",
        "print(df.info())"
      ],
      "metadata": {
        "colab": {
          "base_uri": "https://localhost:8080/"
        },
        "id": "xqcNI1hsDne3",
        "outputId": "9694e715-d154-4b17-9c42-35b643f208eb"
      },
      "execution_count": 15,
      "outputs": [
        {
          "output_type": "stream",
          "name": "stdout",
          "text": [
            "           order_id       quantity  product_price  total_amount\n",
            "count  55445.000000   55445.000000   55445.000000  5.544500e+04\n",
            "mean   61681.191108       3.366976    6231.201863  1.196159e+04\n",
            "std     7502.377958     424.779375   35893.810077  7.499839e+04\n",
            "min    45079.000000       1.000000       2.290000  2.290000e+00\n",
            "25%    55671.000000       1.000000       7.950000  1.497000e+01\n",
            "50%    61895.000000       1.000000     475.600000  4.756000e+02\n",
            "75%    68096.000000       2.000000     914.620000  1.219260e+03\n",
            "max    74147.000000  100000.000000  235481.000000  2.024994e+06\n",
            "<class 'pandas.core.frame.DataFrame'>\n",
            "Int64Index: 55445 entries, 0 to 56044\n",
            "Data columns (total 11 columns):\n",
            " #   Column            Non-Null Count  Dtype         \n",
            "---  ------            --------------  -----         \n",
            " 0   order_id          55445 non-null  int64         \n",
            " 1   order_date        55445 non-null  datetime64[ns]\n",
            " 2   order_year_month  55445 non-null  datetime64[ns]\n",
            " 3   customer_name     55445 non-null  object        \n",
            " 4   city              55445 non-null  object        \n",
            " 5   state_province    55445 non-null  category      \n",
            " 6   quantity          55445 non-null  float64       \n",
            " 7   product_name      55445 non-null  object        \n",
            " 8   product_line      55445 non-null  category      \n",
            " 9   product_price     55445 non-null  float64       \n",
            " 10  total_amount      55445 non-null  float64       \n",
            "dtypes: category(2), datetime64[ns](2), float64(3), int64(1), object(3)\n",
            "memory usage: 4.3+ MB\n",
            "None\n"
          ]
        }
      ]
    },
    {
      "cell_type": "code",
      "execution_count": null,
      "metadata": {
        "vscode": {
          "languageId": "plaintext"
        },
        "id": "jIC8zAy3CTjE"
      },
      "outputs": [],
      "source": [
        "#impute values"
      ]
    },
    {
      "cell_type": "markdown",
      "metadata": {
        "id": "6otoF5tdCTjE"
      },
      "source": [
        "## Prepare Data - Continued\n",
        "\n",
        "➡️ Assignment Tasks\n",
        "- Create a variable called \"complete_customer_info\".   Use \"1\" for True and \"2\" for False.  All customer fields must be valid and not empty before this variable is True.\n",
        "- Create a bar chart showing the count of customers with complete informaiton versus incomplete information"
      ]
    },
    {
      "cell_type": "code",
      "execution_count": 16,
      "metadata": {
        "vscode": {
          "languageId": "plaintext"
        },
        "id": "LY7r2ZE4CTjE"
      },
      "outputs": [],
      "source": [
        "#create variable"
      ]
    },
    {
      "cell_type": "code",
      "source": [
        "# Check if all customer fields are valid and not empty\n",
        "df['complete_customer_info'] = (df['customer_name'].notnull()) & \\\n",
        "                                (df['city'].notnull()) & \\\n",
        "                                (df['state_province'].notnull())\n"
      ],
      "metadata": {
        "id": "A83XaSfLEjFx"
      },
      "execution_count": 17,
      "outputs": []
    },
    {
      "cell_type": "code",
      "source": [
        "# Convert True/False to 1/0\n",
        "df['complete_customer_info'] = df['complete_customer_info'].astype(int)"
      ],
      "metadata": {
        "id": "jt1_3XCuEmQ-"
      },
      "execution_count": 18,
      "outputs": []
    },
    {
      "cell_type": "code",
      "execution_count": null,
      "metadata": {
        "vscode": {
          "languageId": "plaintext"
        },
        "id": "8U5O81CFCTjE"
      },
      "outputs": [],
      "source": [
        "#create chart"
      ]
    },
    {
      "cell_type": "code",
      "source": [
        "\n",
        "# Count the number of customers with complete and incomplete information\n",
        "info_counts = df['complete_customer_info'].value_counts()\n"
      ],
      "metadata": {
        "id": "BK4gY8uIEoM9"
      },
      "execution_count": 20,
      "outputs": []
    },
    {
      "cell_type": "code",
      "source": [
        "# Plot the bar chart\n",
        "plt.bar(['Incomplete', 'Complete'], info_counts)\n",
        "plt.xlabel('Customer Information Completeness')\n",
        "plt.ylabel('Count')\n",
        "plt.title('Count of Customers with Complete vs Incomplete Information')\n",
        "plt.show()"
      ],
      "metadata": {
        "colab": {
          "base_uri": "https://localhost:8080/",
          "height": 472
        },
        "id": "l5omAL2NEsr4",
        "outputId": "8d95b5c1-9369-4731-bf0e-fb5a2ac7d547"
      },
      "execution_count": 23,
      "outputs": [
        {
          "output_type": "display_data",
          "data": {
            "text/plain": [
              "<Figure size 640x480 with 1 Axes>"
            ],
            "image/png": "[encoded data removed]"
          },
          "metadata": {}
        }
      ]
    },
    {
      "cell_type": "code",
      "source": [
        "# Check the counts of complete and incomplete customer information\n",
        "print(\"Counts of complete and incomplete customer information:\")\n",
        "print(info_counts)"
      ],
      "metadata": {
        "colab": {
          "base_uri": "https://localhost:8080/"
        },
        "id": "lvm0lBSME84l",
        "outputId": "8d083ad4-ecf6-497a-b948-9668763e5dc9"
      },
      "execution_count": 24,
      "outputs": [
        {
          "output_type": "stream",
          "name": "stdout",
          "text": [
            "Counts of complete and incomplete customer information:\n",
            "1    55445\n",
            "Name: complete_customer_info, dtype: int64\n"
          ]
        }
      ]
    },
    {
      "cell_type": "markdown",
      "metadata": {
        "id": "_OwZAG88CTjE"
      },
      "source": [
        "## Prepare Data - Continued\n",
        "\n",
        "➡️ Assignment Tasks\n",
        "- Create seasonal buckets for Winter, Sprint, Summer, Fall\n",
        "- Create a chart to show revenue by season\n",
        "- Create a chart to show revenue by year"
      ]
    },
    {
      "cell_type": "code",
      "execution_count": null,
      "metadata": {
        "vscode": {
          "languageId": "plaintext"
        },
        "id": "ukSdF4aSCTjE"
      },
      "outputs": [],
      "source": [
        "#seasonality"
      ]
    },
    {
      "cell_type": "code",
      "source": [
        "# Create seasonal buckets\n",
        "def get_season(month):\n",
        "    if month in [12, 1, 2]:\n",
        "        return 'Winter'\n",
        "    elif month in [3, 4, 5]:\n",
        "        return 'Spring'\n",
        "    elif month in [6, 7, 8]:\n",
        "        return 'Summer'\n",
        "    else:\n",
        "        return 'Fall'"
      ],
      "metadata": {
        "id": "SfVeQP3nFQSv"
      },
      "execution_count": 27,
      "outputs": []
    },
    {
      "cell_type": "code",
      "source": [
        "# Extract month from order_date\n",
        "df['order_month'] = df['order_date'].dt.month"
      ],
      "metadata": {
        "id": "8Yt2jt22FSHZ"
      },
      "execution_count": 29,
      "outputs": []
    },
    {
      "cell_type": "code",
      "source": [
        "\n",
        "# Create season column\n",
        "df['season'] = df['order_month'].apply(get_season)"
      ],
      "metadata": {
        "id": "1Yod5KxgFVvp"
      },
      "execution_count": 30,
      "outputs": []
    },
    {
      "cell_type": "code",
      "source": [
        "# Calculate revenue for each season\n",
        "seasonal_revenue = df.groupby('season')['total_amount'].sum()"
      ],
      "metadata": {
        "id": "Op_A-kqsFXP8"
      },
      "execution_count": 31,
      "outputs": []
    },
    {
      "cell_type": "code",
      "source": [
        "# Plot revenue by season\n",
        "plt.bar(seasonal_revenue.index, seasonal_revenue.values)\n",
        "plt.xlabel('Season')\n",
        "plt.ylabel('Revenue')\n",
        "plt.title('Revenue by Season')\n",
        "plt.show()"
      ],
      "metadata": {
        "colab": {
          "base_uri": "https://localhost:8080/",
          "height": 472
        },
        "id": "MEnfSgFKFYjo",
        "outputId": "aa4ba93a-c91e-45eb-fe67-5ec063205d4e"
      },
      "execution_count": 32,
      "outputs": [
        {
          "output_type": "display_data",
          "data": {
            "text/plain": [
              "<Figure size 640x480 with 1 Axes>"
            ],
            "image/png": "[encoded data removed]"
          },
          "metadata": {}
        }
      ]
    },
    {
      "cell_type": "code",
      "source": [
        "# Extract year from order_date\n",
        "df['order_year'] = df['order_date'].dt.year"
      ],
      "metadata": {
        "id": "5TDQJCDYFacD"
      },
      "execution_count": 33,
      "outputs": []
    },
    {
      "cell_type": "code",
      "source": [
        "# Calculate revenue for each year\n",
        "yearly_revenue = df.groupby('order_year')['total_amount'].sum()"
      ],
      "metadata": {
        "id": "HUhpoQJWFb42"
      },
      "execution_count": 34,
      "outputs": []
    },
    {
      "cell_type": "code",
      "source": [
        "# Plot revenue by year with spaced out x-axis labels (display every other year)\n",
        "plt.plot(yearly_revenue.index, yearly_revenue.values, marker='o')\n",
        "plt.xlabel('Year')\n",
        "plt.ylabel('Revenue')\n",
        "plt.title('Revenue by Year')\n",
        "plt.xticks(yearly_revenue.index[::2], rotation=45, fontsize=10)  # Display every other year\n",
        "plt.grid(True)\n",
        "plt.tight_layout()\n",
        "plt.show()"
      ],
      "metadata": {
        "colab": {
          "base_uri": "https://localhost:8080/",
          "height": 487
        },
        "id": "5ktBspCdFkpR",
        "outputId": "a8824cd3-bebb-442f-da33-b8a4e27cb531"
      },
      "execution_count": 43,
      "outputs": [
        {
          "output_type": "display_data",
          "data": {
            "text/plain": [
              "<Figure size 640x480 with 1 Axes>"
            ],
            "image/png": "[encoded data removed]"
          },
          "metadata": {}
        }
      ]
    },
    {
      "cell_type": "code",
      "execution_count": null,
      "metadata": {
        "vscode": {
          "languageId": "plaintext"
        },
        "id": "JPAKubEwCTjE"
      },
      "outputs": [],
      "source": [
        "#revenue over time"
      ]
    },
    {
      "cell_type": "markdown",
      "metadata": {
        "id": "rEKWcYT-CTjF"
      },
      "source": [
        "## Prepare Data - Continued\n",
        "\n",
        "➡️ Assignment Tasks\n",
        "- Create a variable that will group product lines into \"Outdoor\" versus \"Indoor\" products.\n",
        "- Create a plot to show the correlation between outdoor/indoor versus season  "
      ]
    },
    {
      "cell_type": "code",
      "execution_count": null,
      "metadata": {
        "vscode": {
          "languageId": "plaintext"
        },
        "id": "01779tU0CTjF"
      },
      "outputs": [],
      "source": [
        "#indoor/outdoor variable"
      ]
    },
    {
      "cell_type": "code",
      "source": [
        "# Create a variable to group product lines into \"Outdoor\" versus \"Indoor\"\n",
        "def categorize_product_line(product_line):\n",
        "    outdoor_products = ['Outdoor', 'Camping', 'Hiking', 'Fishing', 'Sports']\n",
        "    if product_line in outdoor_products:\n",
        "        return 'Outdoor'\n",
        "    else:\n",
        "        return 'Indoor'"
      ],
      "metadata": {
        "id": "UwqvSsg2Gzxk"
      },
      "execution_count": 44,
      "outputs": []
    },
    {
      "cell_type": "code",
      "source": [
        "# Apply the categorization function to create a new column\n",
        "df['product_category'] = df['product_line'].apply(categorize_product_line)\n"
      ],
      "metadata": {
        "id": "CXh4gtZhG13d"
      },
      "execution_count": 45,
      "outputs": []
    },
    {
      "cell_type": "code",
      "source": [
        "\n",
        "# Check the counts of each product category\n",
        "print(df['product_category'].value_counts())"
      ],
      "metadata": {
        "colab": {
          "base_uri": "https://localhost:8080/"
        },
        "id": "5ig__Cp0G3bS",
        "outputId": "ba652c2a-1070-488b-d8fd-9c31130c6678"
      },
      "execution_count": 46,
      "outputs": [
        {
          "output_type": "stream",
          "name": "stdout",
          "text": [
            "Indoor    55445\n",
            "Name: product_category, dtype: int64\n"
          ]
        }
      ]
    },
    {
      "cell_type": "code",
      "source": [
        "# Create a cross-tabulation between season and product category\n",
        "season_product_ct = pd.crosstab(df['season'], df['product_category'])\n"
      ],
      "metadata": {
        "id": "NxXUG2JIG5kj"
      },
      "execution_count": 47,
      "outputs": []
    },
    {
      "cell_type": "code",
      "source": [
        "# Plot the heatmap\n",
        "plt.figure(figsize=(10, 6))\n",
        "sns.heatmap(season_product_ct, annot=True, cmap=\"YlGnBu\", fmt=\"d\")\n",
        "plt.xlabel('Product Category')\n",
        "plt.ylabel('Season')\n",
        "plt.title('Correlation between Outdoor/Indoor and Season')\n",
        "plt.show()\n"
      ],
      "metadata": {
        "colab": {
          "base_uri": "https://localhost:8080/",
          "height": 564
        },
        "id": "UYC6Vrh7G7un",
        "outputId": "be252c6f-f73e-47b1-a3c1-5b2c1a953a64"
      },
      "execution_count": 48,
      "outputs": [
        {
          "output_type": "display_data",
          "data": {
            "text/plain": [
              "<Figure size 1000x600 with 2 Axes>"
            ],
            "image/png": "[encoded data removed]"
          },
          "metadata": {}
        }
      ]
    }
  ],
  "metadata": {
    "language_info": {
      "name": "python"
    },
    "colab": {
      "provenance": []
    },
    "kernelspec": {
      "name": "python3",
      "display_name": "Python 3"
    }
  },
  "nbformat": 4,
  "nbformat_minor": 0
}