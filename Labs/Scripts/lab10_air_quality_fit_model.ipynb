{
  "cells": [
    {
      "cell_type": "code",
      "source": [
        "from google.colab import drive\n",
        "drive.mount('/content/drive')"
      ],
      "metadata": {
        "colab": {
          "base_uri": "https://localhost:8080/"
        },
        "id": "qVJyjeQiAdPi",
        "outputId": "f5f0ee22-617b-4a11-92da-cf39695403ef"
      },
      "execution_count": 1,
      "outputs": [
        {
          "output_type": "stream",
          "name": "stdout",
          "text": [
            "Mounted at /content/drive\n"
          ]
        }
      ]
    },
    {
      "cell_type": "markdown",
      "metadata": {
        "id": "mUiu1YJRAb7r"
      },
      "source": [
        "# IS 4487 Lab 10\n",
        "\n",
        "## Outline\n",
        "\n",
        "Repeat exercises from Lab 9, but with the *Air Quality Daily AQI* dataset.\n",
        "\n",
        "Pull the latest \"Daily AQI by County\" file from this link: https://aqs.epa.gov/aqsweb/airdata/download_files.html#AQI\n",
        "\n",
        "Your target variable is *CATEGORY*, indicating if the air is healthy.  You can focus on either the entire country, split the country in regions, or focus on just one area (ex. Utah).   You can reduce noise by aggregating the data to the month of season level.   \n",
        "\n",
        "Can you predict the category based on the location and time of year?  \n",
        "\n",
        "The AQI is divided into six categories:\n",
        "\n",
        "*Air Quality Index*\n",
        "\n",
        "|(AQI) Values\t|Levels of Health Concern\t        |\n",
        "|---------------|--------|\n",
        "|0-50\t        |Good\t |\n",
        "|51-100\t        |Moderate\t |\n",
        "|101-150\t    |Unhealthy for Sensitive Groups\t|\n",
        "|151 to 200\t    |Unhealthy\t |\n",
        "|201 to 300\t    |Very Unhealthy\t |\n",
        "|301 to 500\t    |Hazardous\t |\n",
        "\n",
        "<a href=\"https://colab.research.google.com/github/Stan-Pugsley/is_4487_base/blob/main/Labs/Scripts/lab10_air_quality_fit_model.ipynb\" target=\"_parent\"><img src=\"https://colab.research.google.com/assets/colab-badge.svg\" alt=\"Open In Colab\"/></a>"
      ]
    },
    {
      "cell_type": "markdown",
      "metadata": {
        "id": "FplxE_JqAb7s"
      },
      "source": [
        "## Load Libraries\n",
        "\n",
        "➡️ Assignment Tasks\n",
        "- Load any necessary libraries"
      ]
    },
    {
      "cell_type": "code",
      "execution_count": 2,
      "metadata": {
        "vscode": {
          "languageId": "plaintext"
        },
        "id": "_gwurbX8Ab7s"
      },
      "outputs": [],
      "source": [
        "\n",
        "import pandas as pd\n",
        "import numpy as np\n",
        "import matplotlib.pyplot as plt\n",
        "import seaborn as sns\n",
        "from sklearn.model_selection import train_test_split\n",
        "from sklearn.linear_model import LinearRegression\n",
        "from sklearn.metrics import mean_squared_error\n",
        "from sklearn.model_selection import train_test_split\n",
        "from sklearn.metrics import mean_squared_error, r2_score\n",
        "from sklearn.preprocessing import StandardScaler\n"
      ]
    },
    {
      "cell_type": "markdown",
      "metadata": {
        "id": "Ms9fC9cPAb7s"
      },
      "source": [
        "## Import Data into Dataframe\n",
        "\n",
        "➡️ Assignment Tasks\n",
        "- Import data from the air quality dataset into a dataframe (in GitHub go to Labs > DataSets)\n",
        "- Describe or profile the dataframe"
      ]
    },
    {
      "cell_type": "code",
      "execution_count": 3,
      "metadata": {
        "vscode": {
          "languageId": "plaintext"
        },
        "colab": {
          "base_uri": "https://localhost:8080/"
        },
        "id": "GB9dDOZbAb7s",
        "outputId": "9fc6c714-b25f-415a-c913-6e8802d020d0"
      },
      "outputs": [
        {
          "output_type": "stream",
          "name": "stdout",
          "text": [
            "          State Code    County Code            AQI  Number of Sites Reporting\n",
            "count  185017.000000  185017.000000  185017.000000              185017.000000\n",
            "mean       29.936773      81.188415      43.498397                   1.878595\n",
            "std        15.904884      93.001539      23.905791                   2.273400\n",
            "min         1.000000       1.000000       0.000000                   1.000000\n",
            "25%        17.000000      23.000000      31.000000                   1.000000\n",
            "50%        30.000000      59.000000      41.000000                   1.000000\n",
            "75%        42.000000     107.000000      50.000000                   2.000000\n",
            "max        80.000000     810.000000    1695.000000                  33.000000\n"
          ]
        }
      ],
      "source": [
        "file_path = \"/content/drive/MyDrive/Colab Notebooks/daily_aqi_by_county_2023.csv\"\n",
        "df = pd.read_csv(file_path)\n",
        "\n",
        "# Describe the dataframe\n",
        "print(df.describe())"
      ]
    },
    {
      "cell_type": "markdown",
      "metadata": {
        "id": "fKsQ8hk_Ab7s"
      },
      "source": [
        "**bold text**## Prepare Data\n",
        "\n",
        "➡️ Assignment Tasks\n",
        "- Create one dummy variable (true/false) for each of the Defining Parameter values    \n",
        "- Create variables for month and season\n",
        "- Perform any other data cleanup needed (remove outliers, nulls, etc.)\n",
        "- Select the data you would like to use in the model.  If you aggregate data, you will have to decide whether to use the min, max or mean value for AQI"
      ]
    },
    {
      "cell_type": "code",
      "execution_count": 4,
      "metadata": {
        "vscode": {
          "languageId": "plaintext"
        },
        "id": "MNZy8IsMAb7s"
      },
      "outputs": [],
      "source": [
        "#create columns"
      ]
    },
    {
      "cell_type": "code",
      "source": [
        "dummy_columns = pd.get_dummies(df['Defining Parameter'])\n",
        "\n",
        "\n"
      ],
      "metadata": {
        "id": "1c8B_jAJBNp6"
      },
      "execution_count": 5,
      "outputs": []
    },
    {
      "cell_type": "code",
      "source": [
        "# Convert date to datetime and extract month and season\n",
        "\n",
        "df['Date'] = pd.to_datetime(df['Date'])\n",
        "df['Month'] = df['Date'].dt.month\n",
        "df['Season'] = df['Date'].dt.quarter"
      ],
      "metadata": {
        "id": "xQ02HyRQBPiG"
      },
      "execution_count": 6,
      "outputs": []
    },
    {
      "cell_type": "code",
      "source": [
        "df_clean = df.dropna()"
      ],
      "metadata": {
        "id": "fNcHfC-RBR3q"
      },
      "execution_count": 7,
      "outputs": []
    },
    {
      "cell_type": "code",
      "source": [
        "agg_df = df.groupby(['State Name', 'Month', 'Season']).agg({'AQI': 'mean'}).reset_index()\n"
      ],
      "metadata": {
        "id": "j8NOiqi5BrBI"
      },
      "execution_count": 8,
      "outputs": []
    },
    {
      "cell_type": "code",
      "execution_count": 9,
      "metadata": {
        "vscode": {
          "languageId": "plaintext"
        },
        "id": "3LqR9IxwAb7s"
      },
      "outputs": [],
      "source": [
        "#select final columns for use"
      ]
    },
    {
      "cell_type": "code",
      "source": [
        "final_df = pd.concat([agg_df, dummy_columns], axis=1)\n",
        "final_columns = ['State Name', 'Month', 'Season', 'Ozone', 'PM2.5', 'NO2', 'CO', 'AQI']\n",
        "final_df = final_df[final_columns]\n"
      ],
      "metadata": {
        "id": "BXzhCCBJBhys"
      },
      "execution_count": 10,
      "outputs": []
    },
    {
      "cell_type": "code",
      "source": [
        "print(final_df.columns)\n"
      ],
      "metadata": {
        "colab": {
          "base_uri": "https://localhost:8080/"
        },
        "id": "6EIMdY33CnVr",
        "outputId": "28ab70ad-7ccb-4088-e2be-1592bb74b694"
      },
      "execution_count": 11,
      "outputs": [
        {
          "output_type": "stream",
          "name": "stdout",
          "text": [
            "Index(['State Name', 'Month', 'Season', 'Ozone', 'PM2.5', 'NO2', 'CO', 'AQI'], dtype='object')\n"
          ]
        }
      ]
    },
    {
      "cell_type": "code",
      "source": [
        "print(final_df.dtypes)\n"
      ],
      "metadata": {
        "colab": {
          "base_uri": "https://localhost:8080/"
        },
        "id": "K2SP24PyJAgP",
        "outputId": "78f5d2d0-8a4d-4530-a766-aa9d5aadb1e8"
      },
      "execution_count": 12,
      "outputs": [
        {
          "output_type": "stream",
          "name": "stdout",
          "text": [
            "State Name     object\n",
            "Month         float64\n",
            "Season        float64\n",
            "Ozone           uint8\n",
            "PM2.5           uint8\n",
            "NO2             uint8\n",
            "CO              uint8\n",
            "AQI           float64\n",
            "dtype: object\n"
          ]
        }
      ]
    },
    {
      "cell_type": "code",
      "source": [
        "# Check for missing or infinite values in the 'Month' column\n",
        "missing_values_month = final_df['Month'].isnull().sum()\n",
        "infinite_values_month = final_df['Month'].isin([np.inf, -np.inf]).sum()\n",
        "print(\"Number of missing values in 'Month' column:\", missing_values_month)\n",
        "print(\"Number of infinite values in 'Month' column:\", infinite_values_month)\n"
      ],
      "metadata": {
        "colab": {
          "base_uri": "https://localhost:8080/"
        },
        "id": "VKuRu7YrNN9V",
        "outputId": "6facaf5f-44dd-4005-d9f6-52965e6afa3e"
      },
      "execution_count": 13,
      "outputs": [
        {
          "output_type": "stream",
          "name": "stdout",
          "text": [
            "Number of missing values in 'Month' column: 184580\n",
            "Number of infinite values in 'Month' column: 0\n"
          ]
        }
      ]
    },
    {
      "cell_type": "code",
      "source": [
        "# Replace missing values in 'Month' column with appropriate values (e.g., imputation or drop rows)\n",
        "# Here, let's drop rows with missing values for simplicity\n",
        "final_df.dropna(subset=['Month'], inplace=True)\n"
      ],
      "metadata": {
        "id": "6j9QUTDkNGLY"
      },
      "execution_count": 14,
      "outputs": []
    },
    {
      "cell_type": "code",
      "source": [
        "# Convert data types of 'State Name', 'Month', and 'Season'\n",
        "final_df['State Name'] = final_df['State Name'].astype('category').cat.codes\n",
        "final_df['Month'] = final_df['Month'].astype(int)\n",
        "final_df['Season'] = final_df['Season'].astype(int)\n"
      ],
      "metadata": {
        "id": "rub4LDVSPThk"
      },
      "execution_count": 15,
      "outputs": []
    },
    {
      "cell_type": "code",
      "source": [
        "# Verify data types and check for missing values again\n",
        "print(final_df.dtypes)\n",
        "print(\"Number of missing values in 'Month' column after cleanup:\", final_df['Month'].isnull().sum())"
      ],
      "metadata": {
        "colab": {
          "base_uri": "https://localhost:8080/"
        },
        "id": "AYrbNbPvPUq8",
        "outputId": "078a8c81-c3ed-4b79-aa9e-0a5f055223be"
      },
      "execution_count": 16,
      "outputs": [
        {
          "output_type": "stream",
          "name": "stdout",
          "text": [
            "State Name       int8\n",
            "Month           int64\n",
            "Season          int64\n",
            "Ozone           uint8\n",
            "PM2.5           uint8\n",
            "NO2             uint8\n",
            "CO              uint8\n",
            "AQI           float64\n",
            "dtype: object\n",
            "Number of missing values in 'Month' column after cleanup: 0\n"
          ]
        }
      ]
    },
    {
      "cell_type": "code",
      "source": [
        "print(final_df.dtypes)\n"
      ],
      "metadata": {
        "colab": {
          "base_uri": "https://localhost:8080/"
        },
        "id": "HNLbiBdvNd2t",
        "outputId": "ef21ba31-bf4e-42e4-ca18-07aaf0105ad4"
      },
      "execution_count": 17,
      "outputs": [
        {
          "output_type": "stream",
          "name": "stdout",
          "text": [
            "State Name       int8\n",
            "Month           int64\n",
            "Season          int64\n",
            "Ozone           uint8\n",
            "PM2.5           uint8\n",
            "NO2             uint8\n",
            "CO              uint8\n",
            "AQI           float64\n",
            "dtype: object\n"
          ]
        }
      ]
    },
    {
      "cell_type": "markdown",
      "metadata": {
        "id": "YGvj6D-EAb7s"
      },
      "source": [
        "## Create Regression\n",
        "\n",
        "➡️ Assignment Tasks\n",
        "- Create a simple linear regression to predict AQI based on as many variables as you can use or derive.\n",
        "- Visualize the regression with at least one of the variables"
      ]
    },
    {
      "cell_type": "code",
      "execution_count": 18,
      "metadata": {
        "vscode": {
          "languageId": "plaintext"
        },
        "id": "mfGaEaG4Ab7t"
      },
      "outputs": [],
      "source": [
        "#create regression"
      ]
    },
    {
      "cell_type": "code",
      "source": [
        "# Define features and target variable\n",
        "X = final_df[['State Name', 'Month', 'Season', 'Ozone', 'PM2.5', 'NO2', 'CO']]\n",
        "y = final_df['AQI']\n",
        "\n"
      ],
      "metadata": {
        "id": "aXAIppzwEb8W"
      },
      "execution_count": 19,
      "outputs": []
    },
    {
      "cell_type": "code",
      "source": [
        "# Split the data into training and testing sets\n",
        "X_train, X_test, y_train, y_test = train_test_split(X, y, test_size=0.2, random_state=42)\n",
        "\n",
        "\n"
      ],
      "metadata": {
        "id": "WhreNVe0E0zM"
      },
      "execution_count": 20,
      "outputs": []
    },
    {
      "cell_type": "code",
      "source": [
        "# Instantiate linear regression model\n",
        "model = LinearRegression()"
      ],
      "metadata": {
        "id": "HCD-Xs26NvSn"
      },
      "execution_count": 21,
      "outputs": []
    },
    {
      "cell_type": "code",
      "source": [
        "# Fit the model\n",
        "model.fit(X_train, y_train)\n"
      ],
      "metadata": {
        "colab": {
          "base_uri": "https://localhost:8080/",
          "height": 75
        },
        "id": "D8G452cTE2RE",
        "outputId": "9fa2ff65-1cb7-4b7d-84cd-0b2192f652e9"
      },
      "execution_count": 22,
      "outputs": [
        {
          "output_type": "execute_result",
          "data": {
            "text/plain": [
              "LinearRegression()"
            ],
            "text/html": [
              "<style>#sk-container-id-1 {color: black;background-color: white;}#sk-container-id-1 pre{padding: 0;}#sk-container-id-1 div.sk-toggleable {background-color: white;}#sk-container-id-1 label.sk-toggleable__label {cursor: pointer;display: block;width: 100%;margin-bottom: 0;padding: 0.3em;box-sizing: border-box;text-align: center;}#sk-container-id-1 label.sk-toggleable__label-arrow:before {content: \"▸\";float: left;margin-right: 0.25em;color: #696969;}#sk-container-id-1 label.sk-toggleable__label-arrow:hover:before {color: black;}#sk-container-id-1 div.sk-estimator:hover label.sk-toggleable__label-arrow:before {color: black;}#sk-container-id-1 div.sk-toggleable__content {max-height: 0;max-width: 0;overflow: hidden;text-align: left;background-color: #f0f8ff;}#sk-container-id-1 div.sk-toggleable__content pre {margin: 0.2em;color: black;border-radius: 0.25em;background-color: #f0f8ff;}#sk-container-id-1 input.sk-toggleable__control:checked~div.sk-toggleable__content {max-height: 200px;max-width: 100%;overflow: auto;}#sk-container-id-1 input.sk-toggleable__control:checked~label.sk-toggleable__label-arrow:before {content: \"▾\";}#sk-container-id-1 div.sk-estimator input.sk-toggleable__control:checked~label.sk-toggleable__label {background-color: #d4ebff;}#sk-container-id-1 div.sk-label input.sk-toggleable__control:checked~label.sk-toggleable__label {background-color: #d4ebff;}#sk-container-id-1 input.sk-hidden--visually {border: 0;clip: rect(1px 1px 1px 1px);clip: rect(1px, 1px, 1px, 1px);height: 1px;margin: -1px;overflow: hidden;padding: 0;position: absolute;width: 1px;}#sk-container-id-1 div.sk-estimator {font-family: monospace;background-color: #f0f8ff;border: 1px dotted black;border-radius: 0.25em;box-sizing: border-box;margin-bottom: 0.5em;}#sk-container-id-1 div.sk-estimator:hover {background-color: #d4ebff;}#sk-container-id-1 div.sk-parallel-item::after {content: \"\";width: 100%;border-bottom: 1px solid gray;flex-grow: 1;}#sk-container-id-1 div.sk-label:hover label.sk-toggleable__label {background-color: #d4ebff;}#sk-container-id-1 div.sk-serial::before {content: \"\";position: absolute;border-left: 1px solid gray;box-sizing: border-box;top: 0;bottom: 0;left: 50%;z-index: 0;}#sk-container-id-1 div.sk-serial {display: flex;flex-direction: column;align-items: center;background-color: white;padding-right: 0.2em;padding-left: 0.2em;position: relative;}#sk-container-id-1 div.sk-item {position: relative;z-index: 1;}#sk-container-id-1 div.sk-parallel {display: flex;align-items: stretch;justify-content: center;background-color: white;position: relative;}#sk-container-id-1 div.sk-item::before, #sk-container-id-1 div.sk-parallel-item::before {content: \"\";position: absolute;border-left: 1px solid gray;box-sizing: border-box;top: 0;bottom: 0;left: 50%;z-index: -1;}#sk-container-id-1 div.sk-parallel-item {display: flex;flex-direction: column;z-index: 1;position: relative;background-color: white;}#sk-container-id-1 div.sk-parallel-item:first-child::after {align-self: flex-end;width: 50%;}#sk-container-id-1 div.sk-parallel-item:last-child::after {align-self: flex-start;width: 50%;}#sk-container-id-1 div.sk-parallel-item:only-child::after {width: 0;}#sk-container-id-1 div.sk-dashed-wrapped {border: 1px dashed gray;margin: 0 0.4em 0.5em 0.4em;box-sizing: border-box;padding-bottom: 0.4em;background-color: white;}#sk-container-id-1 div.sk-label label {font-family: monospace;font-weight: bold;display: inline-block;line-height: 1.2em;}#sk-container-id-1 div.sk-label-container {text-align: center;}#sk-container-id-1 div.sk-container {/* jupyter's `normalize.less` sets `[hidden] { display: none; }` but bootstrap.min.css set `[hidden] { display: none !important; }` so we also need the `!important` here to be able to override the default hidden behavior on the sphinx rendered scikit-learn.org. See: https://github.com/scikit-learn/scikit-learn/issues/21755 */display: inline-block !important;position: relative;}#sk-container-id-1 div.sk-text-repr-fallback {display: none;}</style><div id=\"sk-container-id-1\" class=\"sk-top-container\"><div class=\"sk-text-repr-fallback\"><pre>LinearRegression()</pre><b>In a Jupyter environment, please rerun this cell to show the HTML representation or trust the notebook. <br />On GitHub, the HTML representation is unable to render, please try loading this page with nbviewer.org.</b></div><div class=\"sk-container\" hidden><div class=\"sk-item\"><div class=\"sk-estimator sk-toggleable\"><input class=\"sk-toggleable__control sk-hidden--visually\" id=\"sk-estimator-id-1\" type=\"checkbox\" checked><label for=\"sk-estimator-id-1\" class=\"sk-toggleable__label sk-toggleable__label-arrow\">LinearRegression</label><div class=\"sk-toggleable__content\"><pre>LinearRegression()</pre></div></div></div></div></div>"
            ]
          },
          "metadata": {},
          "execution_count": 22
        }
      ]
    },
    {
      "cell_type": "code",
      "source": [
        "# Evaluate the model\n",
        "train_score = model.score(X_train, y_train)\n",
        "test_score = model.score(X_test, y_test)\n",
        "print(\"Training R-squared:\", train_score)\n",
        "print(\"Testing R-squared:\", test_score)"
      ],
      "metadata": {
        "colab": {
          "base_uri": "https://localhost:8080/"
        },
        "id": "JM19uAi4E3bx",
        "outputId": "02f785b9-6d53-4fdf-df2c-d4c42e87039d"
      },
      "execution_count": 23,
      "outputs": [
        {
          "output_type": "stream",
          "name": "stdout",
          "text": [
            "Training R-squared: 0.06167265872124683\n",
            "Testing R-squared: -0.05380369605270774\n"
          ]
        }
      ]
    },
    {
      "cell_type": "code",
      "execution_count": 24,
      "metadata": {
        "vscode": {
          "languageId": "plaintext"
        },
        "id": "s0dIWRkNAb7t"
      },
      "outputs": [],
      "source": [
        "#visual"
      ]
    },
    {
      "cell_type": "code",
      "source": [
        "# Visualize the regression line\n",
        "plt.figure(figsize=(10, 6))\n",
        "\n",
        "# Plot actual vs. predicted values for the testing set\n",
        "plt.scatter(y_test, model.predict(X_test), color='blue', label='Actual vs. Predicted')\n",
        "\n",
        "# Plot the regression line\n",
        "plt.plot(y_test, y_test, color='red', label='Regression Line')\n",
        "\n",
        "plt.title('Linear Regression - Actual vs. Predicted AQI')\n",
        "plt.xlabel('Actual AQI')\n",
        "plt.ylabel('Predicted AQI')\n",
        "plt.legend()\n",
        "plt.grid(True)\n",
        "plt.show()"
      ],
      "metadata": {
        "colab": {
          "base_uri": "https://localhost:8080/",
          "height": 564
        },
        "id": "dKzYY3KYQVuw",
        "outputId": "94ab4e76-44ca-418e-f7f8-60e56413f076"
      },
      "execution_count": 25,
      "outputs": [
        {
          "output_type": "display_data",
          "data": {
            "text/plain": [
              "<Figure size 1000x600 with 1 Axes>"
            ],
            "image/png": "[encoded data removed]"
          },
          "metadata": {}
        }
      ]
    },
    {
      "cell_type": "markdown",
      "metadata": {
        "id": "oFOa6whLAb7t"
      },
      "source": [
        "## Make a prediction\n",
        "\n",
        "➡️ Assignment Tasks\n",
        "- What would you predict the average AQI to be in the month of January?  "
      ]
    },
    {
      "cell_type": "code",
      "source": [
        "\n",
        "january_prediction_data = {\n",
        "    'State Name': [0],  # Assuming a specific state represented by 0\n",
        "    'Month': [1],\n",
        "    'Season': [1],\n",
        "    'Ozone': [final_df['Ozone'].mean()],  # Replace with appropriate average values\n",
        "    'PM2.5': [final_df['PM2.5'].mean()],\n",
        "    'NO2': [final_df['NO2'].mean()],\n",
        "    'CO': [final_df['CO'].mean()]\n",
        "}\n",
        "january_prediction_df = pd.DataFrame(january_prediction_data)\n",
        "\n",
        "# Make prediction for January\n",
        "january_prediction = model.predict(january_prediction_df)\n",
        "\n",
        "# Print the predicted average AQI for January\n",
        "print(\"Predicted average AQI for January:\", january_prediction[0])"
      ],
      "metadata": {
        "colab": {
          "base_uri": "https://localhost:8080/"
        },
        "id": "FSZWPG7RRQPP",
        "outputId": "0f100531-2dfe-42a5-b7a6-9403087645ab"
      },
      "execution_count": 26,
      "outputs": [
        {
          "output_type": "stream",
          "name": "stdout",
          "text": [
            "Predicted average AQI for January: 39.27343523008069\n"
          ]
        }
      ]
    },
    {
      "cell_type": "markdown",
      "metadata": {
        "id": "hN9cSI4EAb7t"
      },
      "source": [
        "## OPTIONAL: Compare Air Quality\n",
        "\n",
        "➡️ Assignment Tasks\n",
        "- Download the data from a year 20 years prior, using this website: https://aqs.epa.gov/aqsweb/airdata/download_files.html#AQI\n",
        "- Append the new data to the previous dataframe\n",
        "- Use the year as a variable in your regression.  Is year a significant factor in predicting AQI?"
      ]
    },
    {
      "cell_type": "code",
      "execution_count": 27,
      "metadata": {
        "vscode": {
          "languageId": "plaintext"
        },
        "id": "_s-hlbIVAb7t"
      },
      "outputs": [],
      "source": [
        "#import, append and create new model"
      ]
    },
    {
      "cell_type": "code",
      "source": [
        "import pandas as pd\n"
      ],
      "metadata": {
        "id": "OJq7BGO5R71b"
      },
      "execution_count": 28,
      "outputs": []
    },
    {
      "cell_type": "code",
      "source": [
        "main_data_path = \"/content/drive/MyDrive/Colab Notebooks/daily_aqi_by_county_2023.csv\"\n",
        "main_df = pd.read_csv(main_data_path)\n"
      ],
      "metadata": {
        "id": "6fozRw1UbDQ9"
      },
      "execution_count": 29,
      "outputs": []
    },
    {
      "cell_type": "code",
      "source": [
        "# Read the historical air quality data into a DataFrame\n",
        "historical_data_path = \"/content/drive/MyDrive/Colab Notebooks/daily_aqi_by_county_2003.csv\"\n",
        "historical_df = pd.read_csv(historical_data_path)"
      ],
      "metadata": {
        "id": "T827zEpgR9kM",
        "outputId": "4da9775a-8174-4fb1-b586-e9ce61612f8d",
        "colab": {
          "base_uri": "https://localhost:8080/"
        }
      },
      "execution_count": 30,
      "outputs": [
        {
          "output_type": "stream",
          "name": "stderr",
          "text": [
            "<ipython-input-30-4b00c682c13a>:3: DtypeWarning: Columns (2) have mixed types. Specify dtype option on import or set low_memory=False.\n",
            "  historical_df = pd.read_csv(historical_data_path)\n"
          ]
        }
      ]
    },
    {
      "cell_type": "code",
      "source": [
        "print(combined_df.columns)\n"
      ],
      "metadata": {
        "id": "Se9LMY_iUgwC",
        "outputId": "abd0dbc4-6682-4f52-cb56-d8b356776fc9",
        "colab": {
          "base_uri": "https://localhost:8080/",
          "height": 141
        }
      },
      "execution_count": 31,
      "outputs": [
        {
          "output_type": "error",
          "ename": "NameError",
          "evalue": "name 'combined_df' is not defined",
          "traceback": [
            "\u001b[0;31m---------------------------------------------------------------------------\u001b[0m",
            "\u001b[0;31mNameError\u001b[0m                                 Traceback (most recent call last)",
            "\u001b[0;32m<ipython-input-31-d6ee868cea2a>\u001b[0m in \u001b[0;36m<cell line: 1>\u001b[0;34m()\u001b[0m\n\u001b[0;32m----> 1\u001b[0;31m \u001b[0mprint\u001b[0m\u001b[0;34m(\u001b[0m\u001b[0mcombined_df\u001b[0m\u001b[0;34m.\u001b[0m\u001b[0mcolumns\u001b[0m\u001b[0;34m)\u001b[0m\u001b[0;34m\u001b[0m\u001b[0;34m\u001b[0m\u001b[0m\n\u001b[0m",
            "\u001b[0;31mNameError\u001b[0m: name 'combined_df' is not defined"
          ]
        }
      ]
    },
    {
      "cell_type": "code",
      "source": [
        "historical_df.dropna(inplace=True)\n",
        "historical_df.drop_duplicates(inplace=True)\n"
      ],
      "metadata": {
        "id": "tHt550JHeQXW"
      },
      "execution_count": null,
      "outputs": []
    },
    {
      "cell_type": "code",
      "source": [
        "historical_df.rename(columns={'county Name': 'County Name'}, inplace=True)\n"
      ],
      "metadata": {
        "id": "y3G-4gXLemXb"
      },
      "execution_count": null,
      "outputs": []
    },
    {
      "cell_type": "code",
      "source": [
        "combined_df = pd.concat([main_df, historical_df], ignore_index=True)\n"
      ],
      "metadata": {
        "id": "nmeXhCksaqk7"
      },
      "execution_count": null,
      "outputs": []
    },
    {
      "cell_type": "code",
      "source": [
        "combined_df.dropna(inplace=True)\n",
        "combined_df.drop_duplicates(inplace=True)"
      ],
      "metadata": {
        "id": "keptqRTPZKu5"
      },
      "execution_count": null,
      "outputs": []
    },
    {
      "cell_type": "code",
      "source": [
        "# Define features (X) and target variable (y)\n",
        "X = combined_df[['Ozone', 'PM2.5', 'NO2', 'CO']]\n",
        "y = combined_df['AQI']"
      ],
      "metadata": {
        "id": "oPN9twqwcx8w"
      },
      "execution_count": null,
      "outputs": []
    },
    {
      "cell_type": "code",
      "source": [
        "# 7. Perform regression analysis using the year variable and other relevant features to predict AQI\n",
        "model = LinearRegression()\n",
        "model.fit(X_train, y_train)"
      ],
      "metadata": {
        "id": "cDkFkhooY8rb"
      },
      "execution_count": null,
      "outputs": []
    },
    {
      "cell_type": "code",
      "source": [
        "model = LinearRegression()\n"
      ],
      "metadata": {
        "id": "eFSiFW5WY9zq"
      },
      "execution_count": null,
      "outputs": []
    }
  ],
  "metadata": {
    "language_info": {
      "name": "python"
    },
    "colab": {
      "provenance": []
    },
    "kernelspec": {
      "name": "python3",
      "display_name": "Python 3"
    }
  },
  "nbformat": 4,
  "nbformat_minor": 0
}