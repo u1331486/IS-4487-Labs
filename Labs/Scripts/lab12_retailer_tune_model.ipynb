{
  "cells": [
    {
      "cell_type": "markdown",
      "metadata": {
        "id": "-o3NcjmH618E"
      },
      "source": [
        "# IS 4487 Lab 7\n",
        "\n",
        "## Outline\n",
        "\n",
        "Begin where you left on in Lab 7 with the *SuperStore Retail Orders* dataset\n",
        "\n",
        "In this lab, your assignment is to do a regression model to predict sales revenue.  You can focus your efforts on predicting sales by month and product line.  \n",
        "\n",
        "<a href=\"https://colab.research.google.com/github/Stan-Pugsley/is_4487_base/blob/main/Labs/Scripts/lab12_retailer_tune_model.ipynb\" target=\"_parent\"><img src=\"https://colab.research.google.com/assets/colab-badge.svg\" alt=\"Open In Colab\"/></a>\n"
      ]
    },
    {
      "cell_type": "markdown",
      "metadata": {
        "id": "hnEw7HyL618G"
      },
      "source": [
        "## Load Libraries\n",
        "\n",
        "➡️ Assignment Tasks\n",
        "- Load any necessary libraries"
      ]
    },
    {
      "cell_type": "code",
      "execution_count": 1,
      "metadata": {
        "vscode": {
          "languageId": "plaintext"
        },
        "id": "SXcEYg6V618G"
      },
      "outputs": [],
      "source": [
        "import pandas as pd\n",
        "import matplotlib.pyplot as plt\n",
        "import seaborn as sns\n",
        "from sklearn.linear_model import LinearRegression\n",
        "from sklearn.metrics import r2_score\n",
        "from sklearn.preprocessing import OneHotEncoder\n",
        "from sklearn.model_selection import train_test_split\n",
        "from sklearn.linear_model import Ridge\n",
        "\n"
      ]
    },
    {
      "cell_type": "markdown",
      "metadata": {
        "id": "GgL9t-PH618G"
      },
      "source": [
        "## Import Data into Dataframe\n",
        "\n",
        "➡️ Assignment Tasks\n",
        "- Import data from the SuperStore retail dataset into a dataframe (in GitHub go to Labs > DataSets)\n",
        "- Describe or profile the dataframe"
      ]
    },
    {
      "cell_type": "code",
      "execution_count": 2,
      "metadata": {
        "vscode": {
          "languageId": "plaintext"
        },
        "colab": {
          "base_uri": "https://localhost:8080/"
        },
        "id": "Dep02O8r618G",
        "outputId": "4cf5f3c2-34ad-41c9-922d-bb28eade197a"
      },
      "outputs": [
        {
          "output_type": "stream",
          "name": "stdout",
          "text": [
            "Mounted at /content/gdrive\n",
            "       order_id  order_date order_year_month     customer_name  \\\n",
            "0         51188  2021-07-01          2021-07     Audrey Blanco   \n",
            "1         51187  2021-07-01          2021-07       Isaac Allen   \n",
            "2         51199  2021-07-02          2021-07        Ian Morgan   \n",
            "3         51241  2021-07-04          2021-07        Alexa Bell   \n",
            "4         51297  2021-07-08          2021-07        Casey Diaz   \n",
            "...         ...         ...              ...               ...   \n",
            "56040     74084  2022-06-29          2022-06        Ian Rogers   \n",
            "56041     74062  2022-06-29          2022-06   Marcus Anderson   \n",
            "56042     74065  2022-06-29          2022-06  Nathaniel Howard   \n",
            "56043     74038  2022-06-29          2022-06        Robin Sanz   \n",
            "56044     74110  2022-06-30          2022-06   Mallory Jimenez   \n",
            "\n",
            "                    city             state_province  quantity  \\\n",
            "0      North Cherylmouth  NEW HAMPSHIRE                   3.0   \n",
            "1             Traceyland  WEST VIRGINIA                   4.0   \n",
            "2              Dylanberg  SOUTH DAKOTA                    5.0   \n",
            "3         Lake Tracytown  WISCONSIN                       1.0   \n",
            "4            Byrdchester  MISSISSIPPI                     1.0   \n",
            "...                  ...                        ...       ...   \n",
            "56040          Port Mark  ALABAMA                         1.0   \n",
            "56041     West Aprilfurt  NEBRASKA                        1.0   \n",
            "56042      New Lindaview  ILLINOIS                        1.0   \n",
            "56043    West Frankhaven  ARKANSAS                        1.0   \n",
            "56044        Dillonhaven  MARYLAND                        1.0   \n",
            "\n",
            "                                            product_name product_line  \\\n",
            "0      Apple iPhone XR (Yellow, 256 GB) (Includes Ear...       Mobile   \n",
            "1      Apple iPhone XR (Yellow, 256 GB) (Includes Ear...       Mobile   \n",
            "2      Apple iPhone XR (Yellow, 256 GB) (Includes Ear...       Mobile   \n",
            "3      Apple iPhone XR (Yellow, 256 GB) (Includes Ear...       Mobile   \n",
            "4      Apple iPhone XR (Yellow, 256 GB) (Includes Ear...       Mobile   \n",
            "...                                                  ...          ...   \n",
            "56040  Samsung Galaxy S20 FE 5G (Cloud Navy, 8GB RAM,...  Electronics   \n",
            "56041  Samsung Galaxy S20 FE 5G (Cloud Navy, 8GB RAM,...  Electronics   \n",
            "56042  Samsung Galaxy S20 FE 5G (Cloud Navy, 8GB RAM,...  Electronics   \n",
            "56043  Samsung Galaxy S20 FE 5G (Cloud Navy, 8GB RAM,...  Electronics   \n",
            "56044  Samsung Galaxy S20 FE 5G (Cloud Navy, 8GB RAM,...  Electronics   \n",
            "\n",
            "       product_price  \n",
            "0             649.99  \n",
            "1             649.99  \n",
            "2             649.99  \n",
            "3             649.99  \n",
            "4             649.99  \n",
            "...              ...  \n",
            "56040         914.62  \n",
            "56041         914.62  \n",
            "56042         914.62  \n",
            "56043         914.62  \n",
            "56044         914.62  \n",
            "\n",
            "[56045 rows x 10 columns]\n"
          ]
        }
      ],
      "source": [
        "from google.colab import drive\n",
        "drive.mount('/content/gdrive', force_remount=True)\n",
        "\n",
        "df = pd.read_csv (r'/content/gdrive/MyDrive/Colab Notebooks/superstore_retail_orders (2).csv')\n",
        "\n",
        "print (df)"
      ]
    },
    {
      "cell_type": "code",
      "source": [
        "print(df.info())  # Display general information about the DataFrame\n",
        "print(df.describe())  #"
      ],
      "metadata": {
        "colab": {
          "base_uri": "https://localhost:8080/"
        },
        "id": "2Zn0m87-B8U7",
        "outputId": "17371f64-5087-45f2-d02b-2aeb5992df6e"
      },
      "execution_count": 3,
      "outputs": [
        {
          "output_type": "stream",
          "name": "stdout",
          "text": [
            "<class 'pandas.core.frame.DataFrame'>\n",
            "RangeIndex: 56045 entries, 0 to 56044\n",
            "Data columns (total 10 columns):\n",
            " #   Column            Non-Null Count  Dtype  \n",
            "---  ------            --------------  -----  \n",
            " 0   order_id          56045 non-null  int64  \n",
            " 1   order_date        56013 non-null  object \n",
            " 2   order_year_month  56013 non-null  object \n",
            " 3   customer_name     56045 non-null  object \n",
            " 4   city              55571 non-null  object \n",
            " 5   state_province    55571 non-null  object \n",
            " 6   quantity          56006 non-null  float64\n",
            " 7   product_name      56045 non-null  object \n",
            " 8   product_line      56045 non-null  object \n",
            " 9   product_price     56045 non-null  float64\n",
            "dtypes: float64(2), int64(1), object(7)\n",
            "memory usage: 4.3+ MB\n",
            "None\n",
            "           order_id       quantity  product_price\n",
            "count  56045.000000   56006.000000   56045.000000\n",
            "mean   61668.066340       3.348498    6195.540505\n",
            "std     7508.229651     422.646565   35784.727716\n",
            "min    45079.000000       1.000000       2.290000\n",
            "25%    55644.000000       1.000000       7.950000\n",
            "50%    61869.000000       1.000000     475.600000\n",
            "75%    68097.000000       2.000000     914.620000\n",
            "max    74147.000000  100000.000000  235481.000000\n"
          ]
        }
      ]
    },
    {
      "cell_type": "markdown",
      "metadata": {
        "id": "jiQTLzV-618G"
      },
      "source": [
        "## Prepare Data\n",
        "\n",
        "➡️ Assignment Tasks\n",
        "- Create any needed variables, such as month of year and total_amount.  \n",
        "- Filter out any incomplete orders"
      ]
    },
    {
      "cell_type": "code",
      "execution_count": 4,
      "metadata": {
        "vscode": {
          "languageId": "plaintext"
        },
        "id": "kBpPa16b618G"
      },
      "outputs": [],
      "source": [
        "#number conversion"
      ]
    },
    {
      "cell_type": "code",
      "source": [
        "df['order_date'] = pd.to_datetime(df['order_date'], errors='coerce')\n",
        "df['order_year_month'] = pd.to_datetime(df['order_year_month'], errors='coerce')\n",
        "df['quantity'] = pd.to_numeric(df['quantity'], errors='coerce')"
      ],
      "metadata": {
        "id": "VKPHkl5UH8zc"
      },
      "execution_count": 5,
      "outputs": []
    },
    {
      "cell_type": "code",
      "source": [
        "print(df[df['order_date'].isnull()]['order_date'])\n"
      ],
      "metadata": {
        "colab": {
          "base_uri": "https://localhost:8080/"
        },
        "id": "2koq3faGIkeh",
        "outputId": "20784a9f-48e4-4390-c983-068949ca54d1"
      },
      "execution_count": 6,
      "outputs": [
        {
          "output_type": "stream",
          "name": "stdout",
          "text": [
            "736     NaT\n",
            "2245    NaT\n",
            "2770    NaT\n",
            "3223    NaT\n",
            "3720    NaT\n",
            "         ..\n",
            "53939   NaT\n",
            "54191   NaT\n",
            "54198   NaT\n",
            "54199   NaT\n",
            "56039   NaT\n",
            "Name: order_date, Length: 87, dtype: datetime64[ns]\n"
          ]
        }
      ]
    },
    {
      "cell_type": "code",
      "source": [
        "\n",
        "# Remove rows with invalid date values\n",
        "df = df.dropna(subset=['order_date'])"
      ],
      "metadata": {
        "id": "d8qZOMw4Iui0"
      },
      "execution_count": 7,
      "outputs": []
    },
    {
      "cell_type": "code",
      "source": [
        "\n",
        "# Convert appropriate character variables into factors (assuming product_line and state_province are categorical)\n",
        "df['product_line'] = df['product_line'].astype('category')\n",
        "df['state_province'] = df['state_province'].astype('category')"
      ],
      "metadata": {
        "id": "e13_r3YuIv_1"
      },
      "execution_count": 8,
      "outputs": []
    },
    {
      "cell_type": "code",
      "source": [
        "# Remove rows with empty (NULL) values\n",
        "df = df.dropna()\n",
        ""
      ],
      "metadata": {
        "id": "rb7l2KXpIxW_"
      },
      "execution_count": 9,
      "outputs": []
    },
    {
      "cell_type": "code",
      "source": [
        "# Identify a variable with missing values and impute them (let's assume 'quantity' has some missing values)\n",
        "# For simplicity, we'll impute missing values with the mean of the column\n",
        "df['quantity'].fillna(df['quantity'].mean(), inplace=True)"
      ],
      "metadata": {
        "colab": {
          "base_uri": "https://localhost:8080/"
        },
        "id": "LxCGyfYUI0A0",
        "outputId": "2faed80c-9999-448b-a4c1-161ee6cb403d"
      },
      "execution_count": 10,
      "outputs": [
        {
          "output_type": "stream",
          "name": "stderr",
          "text": [
            "<ipython-input-10-e068af9f4087>:3: SettingWithCopyWarning: \n",
            "A value is trying to be set on a copy of a slice from a DataFrame\n",
            "\n",
            "See the caveats in the documentation: https://pandas.pydata.org/pandas-docs/stable/user_guide/indexing.html#returning-a-view-versus-a-copy\n",
            "  df['quantity'].fillna(df['quantity'].mean(), inplace=True)\n"
          ]
        }
      ]
    },
    {
      "cell_type": "code",
      "source": [
        "# Create the total_amount column\n",
        "\n",
        "df['total_amount'] = df['quantity'] * df['product_price']\n"
      ],
      "metadata": {
        "colab": {
          "base_uri": "https://localhost:8080/"
        },
        "id": "9PwyVHOFCMMh",
        "outputId": "1c81b742-9d95-4e86-c490-d34a3ba7b7e5"
      },
      "execution_count": 11,
      "outputs": [
        {
          "output_type": "stream",
          "name": "stderr",
          "text": [
            "<ipython-input-11-42b28585988b>:3: SettingWithCopyWarning: \n",
            "A value is trying to be set on a copy of a slice from a DataFrame.\n",
            "Try using .loc[row_indexer,col_indexer] = value instead\n",
            "\n",
            "See the caveats in the documentation: https://pandas.pydata.org/pandas-docs/stable/user_guide/indexing.html#returning-a-view-versus-a-copy\n",
            "  df['total_amount'] = df['quantity'] * df['product_price']\n"
          ]
        }
      ]
    },
    {
      "cell_type": "code",
      "source": [
        "\n",
        "# Describe or profile the dataframe\n",
        "print(df.describe())\n",
        "print(df.info())"
      ],
      "metadata": {
        "colab": {
          "base_uri": "https://localhost:8080/"
        },
        "id": "Pf1XNMzAI3m3",
        "outputId": "a7cf419c-f3b9-4c7c-acc5-1f76c14cb6fe"
      },
      "execution_count": 12,
      "outputs": [
        {
          "output_type": "stream",
          "name": "stdout",
          "text": [
            "           order_id                     order_date  \\\n",
            "count  55445.000000                          55445   \n",
            "mean   61681.191108  2021-11-12 09:22:59.291189248   \n",
            "min    45079.000000            1922-06-28 00:00:00   \n",
            "25%    55671.000000            2021-10-06 00:00:00   \n",
            "50%    61895.000000            2022-01-11 00:00:00   \n",
            "75%    68096.000000            2022-04-11 00:00:00   \n",
            "max    74147.000000            2029-08-02 00:00:00   \n",
            "std     7502.377958                            NaN   \n",
            "\n",
            "                    order_year_month       quantity  product_price  \\\n",
            "count                          55445   55445.000000   55445.000000   \n",
            "mean   2021-10-28 18:16:29.910722304       3.366976    6231.201863   \n",
            "min              1922-06-01 00:00:00       1.000000       2.290000   \n",
            "25%              2021-10-01 00:00:00       1.000000       7.950000   \n",
            "50%              2022-01-01 00:00:00       1.000000     475.600000   \n",
            "75%              2022-04-01 00:00:00       2.000000     914.620000   \n",
            "max              2029-08-01 00:00:00  100000.000000  235481.000000   \n",
            "std                              NaN     424.779375   35893.810077   \n",
            "\n",
            "       total_amount  \n",
            "count  5.544500e+04  \n",
            "mean   1.196159e+04  \n",
            "min    2.290000e+00  \n",
            "25%    1.497000e+01  \n",
            "50%    4.756000e+02  \n",
            "75%    1.219260e+03  \n",
            "max    2.024994e+06  \n",
            "std    7.499839e+04  \n",
            "<class 'pandas.core.frame.DataFrame'>\n",
            "Index: 55445 entries, 0 to 56044\n",
            "Data columns (total 11 columns):\n",
            " #   Column            Non-Null Count  Dtype         \n",
            "---  ------            --------------  -----         \n",
            " 0   order_id          55445 non-null  int64         \n",
            " 1   order_date        55445 non-null  datetime64[ns]\n",
            " 2   order_year_month  55445 non-null  datetime64[ns]\n",
            " 3   customer_name     55445 non-null  object        \n",
            " 4   city              55445 non-null  object        \n",
            " 5   state_province    55445 non-null  category      \n",
            " 6   quantity          55445 non-null  float64       \n",
            " 7   product_name      55445 non-null  object        \n",
            " 8   product_line      55445 non-null  category      \n",
            " 9   product_price     55445 non-null  float64       \n",
            " 10  total_amount      55445 non-null  float64       \n",
            "dtypes: category(2), datetime64[ns](2), float64(3), int64(1), object(3)\n",
            "memory usage: 4.3+ MB\n",
            "None\n"
          ]
        }
      ]
    },
    {
      "cell_type": "code",
      "execution_count": 13,
      "metadata": {
        "vscode": {
          "languageId": "plaintext"
        },
        "id": "QfViTCAt618H"
      },
      "outputs": [],
      "source": [
        "#filter records"
      ]
    },
    {
      "cell_type": "markdown",
      "metadata": {
        "id": "Cgb2EXF7618H"
      },
      "source": [
        "## Visualize Data\n",
        "\n",
        "➡️ Assignment Tasks\n",
        "- Create at least 2 plots showing total revenue (quantity * price) by other variables (see Lab 7)."
      ]
    },
    {
      "cell_type": "code",
      "source": [
        "df['order_date'] = pd.to_datetime(df['order_date'])\n",
        "df['order_month'] = df['order_date'].dt.month\n",
        "\n",
        "monthly_revenue = df.groupby('order_month')['total_amount'].sum()\n"
      ],
      "metadata": {
        "id": "YLxuc53A82MV"
      },
      "execution_count": 14,
      "outputs": []
    },
    {
      "cell_type": "code",
      "source": [
        "plt.plot(monthly_revenue.index, monthly_revenue.values, marker='o', linestyle='-')\n",
        "plt.xlabel('Month')\n",
        "plt.ylabel('Total Revenue')\n",
        "plt.title('Total Revenue by Month')\n",
        "plt.xticks(range(1, 13))  # Assuming months are represented by numbers 1 to 12\n",
        "plt.grid(True)\n",
        "plt.show()"
      ],
      "metadata": {
        "colab": {
          "base_uri": "https://localhost:8080/",
          "height": 472
        },
        "id": "gLCRvxfD83Z_",
        "outputId": "7c30b86e-7163-4523-ca50-002d22072939"
      },
      "execution_count": 15,
      "outputs": [
        {
          "output_type": "display_data",
          "data": {
            "text/plain": [
              "<Figure size 640x480 with 1 Axes>"
            ],
            "image/png": "[encoded data removed]"
          },
          "metadata": {}
        }
      ]
    },
    {
      "cell_type": "code",
      "source": [
        "# Plot total revenue by product line\n",
        "product_line_revenue = df.groupby('product_line')['total_amount'].sum()\n",
        "plt.figure(figsize=(10, 6))\n",
        "product_line_revenue.plot(kind='bar')\n",
        "plt.xlabel('Product Line')\n",
        "plt.ylabel('Total Revenue')\n",
        "plt.title('Total Revenue by Product Line')\n",
        "plt.xticks(rotation=45, ha='right')\n",
        "plt.show()\n"
      ],
      "metadata": {
        "colab": {
          "base_uri": "https://localhost:8080/",
          "height": 631
        },
        "id": "KfhGjgo-9Exr",
        "outputId": "579132cc-465f-42c6-d487-7e88cb293475"
      },
      "execution_count": 16,
      "outputs": [
        {
          "output_type": "display_data",
          "data": {
            "text/plain": [
              "<Figure size 1000x600 with 1 Axes>"
            ],
            "image/png": "[encoded data removed]"
          },
          "metadata": {}
        }
      ]
    },
    {
      "cell_type": "code",
      "execution_count": 17,
      "metadata": {
        "vscode": {
          "languageId": "plaintext"
        },
        "id": "OuDvXv2z618H"
      },
      "outputs": [],
      "source": [
        "#plots"
      ]
    },
    {
      "cell_type": "markdown",
      "metadata": {
        "id": "NDFE0rx6618H"
      },
      "source": [
        "## Regression\n",
        "\n",
        "For more info on regression models, see: https://towardsdatascience.com/simple-and-multiple-linear-regression-in-python-c928425168f9\n",
        "\n",
        "➡️ Assignment Tasks\n",
        "- create a linear regression to predict the total revenue (quantity * price). Use ONLY ONE of the independent variables, such as month of the year\n",
        "- Output your coefficients"
      ]
    },
    {
      "cell_type": "code",
      "source": [
        "df['order_month'] = df['order_date'].dt.month\n"
      ],
      "metadata": {
        "id": "hQWOayuQM-pP"
      },
      "execution_count": 18,
      "outputs": []
    },
    {
      "cell_type": "code",
      "source": [
        "# Create the feature matrix (X) and target vector (y)\n",
        "X = df[['order_month']]  # Independent variable: month of the year\n",
        "y = df['total_amount']    # Dependent variable: total revenue\n"
      ],
      "metadata": {
        "id": "xu17-nil9KQg"
      },
      "execution_count": 19,
      "outputs": []
    },
    {
      "cell_type": "code",
      "source": [
        "X_train, X_test, y_train, y_test = train_test_split(X, y, test_size=0.2, random_state=42)\n"
      ],
      "metadata": {
        "id": "LnkSRFnnLzCY"
      },
      "execution_count": 20,
      "outputs": []
    },
    {
      "cell_type": "code",
      "source": [
        "# Create and fit the linear regression model\n",
        "model = LinearRegression()\n",
        "model.fit(X_train, y_train)"
      ],
      "metadata": {
        "colab": {
          "base_uri": "https://localhost:8080/",
          "height": 75
        },
        "id": "qbn1aelq9Lau",
        "outputId": "9ca72e09-0487-4ddd-b1db-7c70d8ffdbe3"
      },
      "execution_count": 21,
      "outputs": [
        {
          "output_type": "execute_result",
          "data": {
            "text/plain": [
              "LinearRegression()"
            ],
            "text/html": [
              "<style>#sk-container-id-1 {color: black;background-color: white;}#sk-container-id-1 pre{padding: 0;}#sk-container-id-1 div.sk-toggleable {background-color: white;}#sk-container-id-1 label.sk-toggleable__label {cursor: pointer;display: block;width: 100%;margin-bottom: 0;padding: 0.3em;box-sizing: border-box;text-align: center;}#sk-container-id-1 label.sk-toggleable__label-arrow:before {content: \"▸\";float: left;margin-right: 0.25em;color: #696969;}#sk-container-id-1 label.sk-toggleable__label-arrow:hover:before {color: black;}#sk-container-id-1 div.sk-estimator:hover label.sk-toggleable__label-arrow:before {color: black;}#sk-container-id-1 div.sk-toggleable__content {max-height: 0;max-width: 0;overflow: hidden;text-align: left;background-color: #f0f8ff;}#sk-container-id-1 div.sk-toggleable__content pre {margin: 0.2em;color: black;border-radius: 0.25em;background-color: #f0f8ff;}#sk-container-id-1 input.sk-toggleable__control:checked~div.sk-toggleable__content {max-height: 200px;max-width: 100%;overflow: auto;}#sk-container-id-1 input.sk-toggleable__control:checked~label.sk-toggleable__label-arrow:before {content: \"▾\";}#sk-container-id-1 div.sk-estimator input.sk-toggleable__control:checked~label.sk-toggleable__label {background-color: #d4ebff;}#sk-container-id-1 div.sk-label input.sk-toggleable__control:checked~label.sk-toggleable__label {background-color: #d4ebff;}#sk-container-id-1 input.sk-hidden--visually {border: 0;clip: rect(1px 1px 1px 1px);clip: rect(1px, 1px, 1px, 1px);height: 1px;margin: -1px;overflow: hidden;padding: 0;position: absolute;width: 1px;}#sk-container-id-1 div.sk-estimator {font-family: monospace;background-color: #f0f8ff;border: 1px dotted black;border-radius: 0.25em;box-sizing: border-box;margin-bottom: 0.5em;}#sk-container-id-1 div.sk-estimator:hover {background-color: #d4ebff;}#sk-container-id-1 div.sk-parallel-item::after {content: \"\";width: 100%;border-bottom: 1px solid gray;flex-grow: 1;}#sk-container-id-1 div.sk-label:hover label.sk-toggleable__label {background-color: #d4ebff;}#sk-container-id-1 div.sk-serial::before {content: \"\";position: absolute;border-left: 1px solid gray;box-sizing: border-box;top: 0;bottom: 0;left: 50%;z-index: 0;}#sk-container-id-1 div.sk-serial {display: flex;flex-direction: column;align-items: center;background-color: white;padding-right: 0.2em;padding-left: 0.2em;position: relative;}#sk-container-id-1 div.sk-item {position: relative;z-index: 1;}#sk-container-id-1 div.sk-parallel {display: flex;align-items: stretch;justify-content: center;background-color: white;position: relative;}#sk-container-id-1 div.sk-item::before, #sk-container-id-1 div.sk-parallel-item::before {content: \"\";position: absolute;border-left: 1px solid gray;box-sizing: border-box;top: 0;bottom: 0;left: 50%;z-index: -1;}#sk-container-id-1 div.sk-parallel-item {display: flex;flex-direction: column;z-index: 1;position: relative;background-color: white;}#sk-container-id-1 div.sk-parallel-item:first-child::after {align-self: flex-end;width: 50%;}#sk-container-id-1 div.sk-parallel-item:last-child::after {align-self: flex-start;width: 50%;}#sk-container-id-1 div.sk-parallel-item:only-child::after {width: 0;}#sk-container-id-1 div.sk-dashed-wrapped {border: 1px dashed gray;margin: 0 0.4em 0.5em 0.4em;box-sizing: border-box;padding-bottom: 0.4em;background-color: white;}#sk-container-id-1 div.sk-label label {font-family: monospace;font-weight: bold;display: inline-block;line-height: 1.2em;}#sk-container-id-1 div.sk-label-container {text-align: center;}#sk-container-id-1 div.sk-container {/* jupyter's `normalize.less` sets `[hidden] { display: none; }` but bootstrap.min.css set `[hidden] { display: none !important; }` so we also need the `!important` here to be able to override the default hidden behavior on the sphinx rendered scikit-learn.org. See: https://github.com/scikit-learn/scikit-learn/issues/21755 */display: inline-block !important;position: relative;}#sk-container-id-1 div.sk-text-repr-fallback {display: none;}</style><div id=\"sk-container-id-1\" class=\"sk-top-container\"><div class=\"sk-text-repr-fallback\"><pre>LinearRegression()</pre><b>In a Jupyter environment, please rerun this cell to show the HTML representation or trust the notebook. <br />On GitHub, the HTML representation is unable to render, please try loading this page with nbviewer.org.</b></div><div class=\"sk-container\" hidden><div class=\"sk-item\"><div class=\"sk-estimator sk-toggleable\"><input class=\"sk-toggleable__control sk-hidden--visually\" id=\"sk-estimator-id-1\" type=\"checkbox\" checked><label for=\"sk-estimator-id-1\" class=\"sk-toggleable__label sk-toggleable__label-arrow\">LinearRegression</label><div class=\"sk-toggleable__content\"><pre>LinearRegression()</pre></div></div></div></div></div>"
            ]
          },
          "metadata": {},
          "execution_count": 21
        }
      ]
    },
    {
      "cell_type": "code",
      "source": [
        "# Output the coefficients\n",
        "print(\"Intercept:\", model.intercept_)\n",
        "print(\"Coefficient for order_month:\", model.coef_[0])"
      ],
      "metadata": {
        "colab": {
          "base_uri": "https://localhost:8080/"
        },
        "id": "OojsCkiuAF4X",
        "outputId": "835a07c0-2c23-4962-8052-0bd8aa89b4a9"
      },
      "execution_count": 22,
      "outputs": [
        {
          "output_type": "stream",
          "name": "stdout",
          "text": [
            "Intercept: 12142.930391951993\n",
            "Coefficient for order_month: -52.75589233215973\n"
          ]
        }
      ]
    },
    {
      "cell_type": "markdown",
      "source": [
        "\n",
        "expected total revenue is approximately $12,142.93.\n",
        "\n",
        "\n",
        "\n",
        ">\n",
        "\n",
        "\n",
        "\n",
        "\n",
        "total revenue decreases by approximately 52.76.\n",
        "\n",
        "\n",
        "\n",
        "\n",
        "\n",
        "\n"
      ],
      "metadata": {
        "id": "ts56BqgfAMWw"
      }
    },
    {
      "cell_type": "code",
      "source": [
        "# Make predictions\n",
        "y_pred = model.predict(X_test)\n"
      ],
      "metadata": {
        "id": "D9h72FjeK814"
      },
      "execution_count": 23,
      "outputs": []
    },
    {
      "cell_type": "code",
      "source": [
        "# Calculate R^2 score\n",
        "r2 = r2_score(y_test, y_pred)\n",
        "print(\"R^2 Score:\", \"{:.4f}\".format(r2))\n"
      ],
      "metadata": {
        "colab": {
          "base_uri": "https://localhost:8080/"
        },
        "id": "LRSd5vG_K-og",
        "outputId": "b3fe3c1f-c165-429d-bac6-142f1c97de8c"
      },
      "execution_count": 24,
      "outputs": [
        {
          "output_type": "stream",
          "name": "stdout",
          "text": [
            "R^2 Score: -0.0001\n"
          ]
        }
      ]
    },
    {
      "cell_type": "markdown",
      "source": [
        " using the order month alone as the independent variable does not explain much of the variance in total revenue.\n",
        "\n",
        "\n",
        "\n"
      ],
      "metadata": {
        "id": "xVDFmfSzQZO6"
      }
    },
    {
      "cell_type": "code",
      "execution_count": 25,
      "metadata": {
        "vscode": {
          "languageId": "plaintext"
        },
        "id": "owhd7k87618H"
      },
      "outputs": [],
      "source": [
        "#create model"
      ]
    },
    {
      "cell_type": "code",
      "execution_count": 26,
      "metadata": {
        "vscode": {
          "languageId": "plaintext"
        },
        "id": "108FwCMW618H"
      },
      "outputs": [],
      "source": [
        "#display coefficients"
      ]
    },
    {
      "cell_type": "markdown",
      "metadata": {
        "id": "MG8_xqvd618H"
      },
      "source": [
        "## Regression - Improved\n",
        "\n",
        "➡️ Assignment Tasks\n",
        "- create a linear regression to predict the total revenue (quantity * price). Use at least two more independent variables (see varabiables from Lab 7)\n",
        "- Output your coefficients\n",
        "- Did your R2 value improve (better fit)?"
      ]
    },
    {
      "cell_type": "code",
      "source": [
        "\n",
        "# Feature Engineering: Create dummy variables for 'state_province' and 'product_line'\n",
        "dummy_vars = pd.get_dummies(df[['state_province', 'product_line']], drop_first=True)\n"
      ],
      "metadata": {
        "id": "tjk7UzLjEYke"
      },
      "execution_count": 27,
      "outputs": []
    },
    {
      "cell_type": "code",
      "source": [
        "# Concatenate the original dataframe with the dummy variables\n",
        "df_concatenated = pd.concat([df, dummy_vars], axis=1)\n"
      ],
      "metadata": {
        "id": "laOP-QlBFZk8"
      },
      "execution_count": 28,
      "outputs": []
    },
    {
      "cell_type": "code",
      "source": [
        "# Create the feature matrix (X) and target vector (y)\n",
        "X = df_concatenated[['order_month']].join(dummy_vars)  # Include month of the year along with dummy variables\n",
        "y = df_concatenated['total_amount']\n"
      ],
      "metadata": {
        "id": "DvN3M3xvE9vb"
      },
      "execution_count": 29,
      "outputs": []
    },
    {
      "cell_type": "code",
      "source": [
        "# Split the data into training and testing sets\n",
        "X_train, X_test, y_train, y_test = train_test_split(X, y, test_size=0.2, random_state=42)\n"
      ],
      "metadata": {
        "id": "t9yGMBAeFfLK"
      },
      "execution_count": 30,
      "outputs": []
    },
    {
      "cell_type": "code",
      "source": [
        "# Create and fit the linear regression model\n",
        "model_improved = LinearRegression()\n",
        "model_improved.fit(X_train, y_train)"
      ],
      "metadata": {
        "colab": {
          "base_uri": "https://localhost:8080/",
          "height": 75
        },
        "id": "g7mtsHLBFjTw",
        "outputId": "8f78ddca-249e-47c6-c555-85dfabbbd64f"
      },
      "execution_count": 31,
      "outputs": [
        {
          "output_type": "execute_result",
          "data": {
            "text/plain": [
              "LinearRegression()"
            ],
            "text/html": [
              "<style>#sk-container-id-2 {color: black;background-color: white;}#sk-container-id-2 pre{padding: 0;}#sk-container-id-2 div.sk-toggleable {background-color: white;}#sk-container-id-2 label.sk-toggleable__label {cursor: pointer;display: block;width: 100%;margin-bottom: 0;padding: 0.3em;box-sizing: border-box;text-align: center;}#sk-container-id-2 label.sk-toggleable__label-arrow:before {content: \"▸\";float: left;margin-right: 0.25em;color: #696969;}#sk-container-id-2 label.sk-toggleable__label-arrow:hover:before {color: black;}#sk-container-id-2 div.sk-estimator:hover label.sk-toggleable__label-arrow:before {color: black;}#sk-container-id-2 div.sk-toggleable__content {max-height: 0;max-width: 0;overflow: hidden;text-align: left;background-color: #f0f8ff;}#sk-container-id-2 div.sk-toggleable__content pre {margin: 0.2em;color: black;border-radius: 0.25em;background-color: #f0f8ff;}#sk-container-id-2 input.sk-toggleable__control:checked~div.sk-toggleable__content {max-height: 200px;max-width: 100%;overflow: auto;}#sk-container-id-2 input.sk-toggleable__control:checked~label.sk-toggleable__label-arrow:before {content: \"▾\";}#sk-container-id-2 div.sk-estimator input.sk-toggleable__control:checked~label.sk-toggleable__label {background-color: #d4ebff;}#sk-container-id-2 div.sk-label input.sk-toggleable__control:checked~label.sk-toggleable__label {background-color: #d4ebff;}#sk-container-id-2 input.sk-hidden--visually {border: 0;clip: rect(1px 1px 1px 1px);clip: rect(1px, 1px, 1px, 1px);height: 1px;margin: -1px;overflow: hidden;padding: 0;position: absolute;width: 1px;}#sk-container-id-2 div.sk-estimator {font-family: monospace;background-color: #f0f8ff;border: 1px dotted black;border-radius: 0.25em;box-sizing: border-box;margin-bottom: 0.5em;}#sk-container-id-2 div.sk-estimator:hover {background-color: #d4ebff;}#sk-container-id-2 div.sk-parallel-item::after {content: \"\";width: 100%;border-bottom: 1px solid gray;flex-grow: 1;}#sk-container-id-2 div.sk-label:hover label.sk-toggleable__label {background-color: #d4ebff;}#sk-container-id-2 div.sk-serial::before {content: \"\";position: absolute;border-left: 1px solid gray;box-sizing: border-box;top: 0;bottom: 0;left: 50%;z-index: 0;}#sk-container-id-2 div.sk-serial {display: flex;flex-direction: column;align-items: center;background-color: white;padding-right: 0.2em;padding-left: 0.2em;position: relative;}#sk-container-id-2 div.sk-item {position: relative;z-index: 1;}#sk-container-id-2 div.sk-parallel {display: flex;align-items: stretch;justify-content: center;background-color: white;position: relative;}#sk-container-id-2 div.sk-item::before, #sk-container-id-2 div.sk-parallel-item::before {content: \"\";position: absolute;border-left: 1px solid gray;box-sizing: border-box;top: 0;bottom: 0;left: 50%;z-index: -1;}#sk-container-id-2 div.sk-parallel-item {display: flex;flex-direction: column;z-index: 1;position: relative;background-color: white;}#sk-container-id-2 div.sk-parallel-item:first-child::after {align-self: flex-end;width: 50%;}#sk-container-id-2 div.sk-parallel-item:last-child::after {align-self: flex-start;width: 50%;}#sk-container-id-2 div.sk-parallel-item:only-child::after {width: 0;}#sk-container-id-2 div.sk-dashed-wrapped {border: 1px dashed gray;margin: 0 0.4em 0.5em 0.4em;box-sizing: border-box;padding-bottom: 0.4em;background-color: white;}#sk-container-id-2 div.sk-label label {font-family: monospace;font-weight: bold;display: inline-block;line-height: 1.2em;}#sk-container-id-2 div.sk-label-container {text-align: center;}#sk-container-id-2 div.sk-container {/* jupyter's `normalize.less` sets `[hidden] { display: none; }` but bootstrap.min.css set `[hidden] { display: none !important; }` so we also need the `!important` here to be able to override the default hidden behavior on the sphinx rendered scikit-learn.org. See: https://github.com/scikit-learn/scikit-learn/issues/21755 */display: inline-block !important;position: relative;}#sk-container-id-2 div.sk-text-repr-fallback {display: none;}</style><div id=\"sk-container-id-2\" class=\"sk-top-container\"><div class=\"sk-text-repr-fallback\"><pre>LinearRegression()</pre><b>In a Jupyter environment, please rerun this cell to show the HTML representation or trust the notebook. <br />On GitHub, the HTML representation is unable to render, please try loading this page with nbviewer.org.</b></div><div class=\"sk-container\" hidden><div class=\"sk-item\"><div class=\"sk-estimator sk-toggleable\"><input class=\"sk-toggleable__control sk-hidden--visually\" id=\"sk-estimator-id-2\" type=\"checkbox\" checked><label for=\"sk-estimator-id-2\" class=\"sk-toggleable__label sk-toggleable__label-arrow\">LinearRegression</label><div class=\"sk-toggleable__content\"><pre>LinearRegression()</pre></div></div></div></div></div>"
            ]
          },
          "metadata": {},
          "execution_count": 31
        }
      ]
    },
    {
      "cell_type": "code",
      "source": [
        "# Output the coefficients\n",
        "print(\"Intercept:\", model_improved.intercept_)\n",
        "print(\"Coefficients for order_month and dummy variables:\")\n",
        "print(model_improved.coef_)"
      ],
      "metadata": {
        "colab": {
          "base_uri": "https://localhost:8080/"
        },
        "id": "PQTgV8hnGnyd",
        "outputId": "1ca582e6-2ac3-4a7e-9503-94b1158400ad"
      },
      "execution_count": 32,
      "outputs": [
        {
          "output_type": "stream",
          "name": "stdout",
          "text": [
            "Intercept: -2483.183112442668\n",
            "Coefficients for order_month and dummy variables:\n",
            "[-7.01373175e+01  5.48728030e+03  3.01218859e+03  3.59064849e+03\n",
            "  3.83102115e+03  1.66064941e+03  1.21694413e+02  3.24879919e+03\n",
            "  3.66994085e+03  5.52049877e+03  7.59628016e+03  2.12397741e+02\n",
            " -8.85031534e+02  2.33153430e+03  3.13779017e+03  5.05760806e+03\n",
            " -1.02588844e+03  2.23106622e+03  6.18828654e+03  6.58334030e+03\n",
            "  3.04726598e+03  2.59811937e+03  1.30712752e+04  2.18437620e+03\n",
            "  5.48232547e+03 -1.60952739e+03  4.78138467e+03  4.63102123e+03\n",
            "  5.09178630e+03  4.52560660e+03  2.92527389e+03  3.66162273e+03\n",
            "  3.53515411e+03  3.06712519e+03  1.43022521e+03 -1.30033122e+03\n",
            " -8.02557011e+03 -2.75709705e+03  4.36037731e+03  4.04046554e+03\n",
            "  4.10829121e+03  2.93500584e+03  3.09748322e+03  4.93992014e+03\n",
            "  4.69368325e+03  6.68213860e+03 -4.46136170e+02  3.79991273e+03\n",
            "  5.24885915e+02  7.08382518e+02  4.07011081e+03  2.67977291e+03\n",
            "  6.70529571e+02  2.26815104e+03  1.76265779e+03  6.61495863e+02\n",
            "  9.57926424e+04  1.06308379e+03  6.72768291e+03  1.04014522e+03\n",
            "  1.03150195e+02  1.48185645e+04]\n"
          ]
        }
      ]
    },
    {
      "cell_type": "code",
      "source": [
        "y_pred_improved = model_improved.predict(X_test)\n"
      ],
      "metadata": {
        "id": "vdhRm9gFNXJg"
      },
      "execution_count": 33,
      "outputs": []
    },
    {
      "cell_type": "code",
      "source": [
        "# Calculate R^2 score\n",
        "r2_improved = r2_score(y_test, y_pred_improved)\n",
        "print(\"Improved R^2 Score:\", r2_improved)"
      ],
      "metadata": {
        "colab": {
          "base_uri": "https://localhost:8080/"
        },
        "id": "x0lpLFiLGkyl",
        "outputId": "dd756df6-c469-43d3-e379-d01ff396cd61"
      },
      "execution_count": 34,
      "outputs": [
        {
          "output_type": "stream",
          "name": "stdout",
          "text": [
            "Improved R^2 Score: 0.180057104234575\n"
          ]
        }
      ]
    },
    {
      "cell_type": "markdown",
      "source": [
        "when i included additional independent variables such as state/province and product line, the R^2 value increased to approximately 0.18."
      ],
      "metadata": {
        "id": "5gtLin-3G87c"
      }
    },
    {
      "cell_type": "markdown",
      "metadata": {
        "id": "VOtiMbsm618I"
      },
      "source": [
        "## One-Hot Product\n",
        "\n",
        "➡️ Assignment Tasks\n",
        "- Create one-hot/dummy encoding for the product line variable.  Use those new encoded variables for the regression"
      ]
    },
    {
      "cell_type": "code",
      "source": [
        "dummy_vars = pd.get_dummies(df['product_line'], prefix='product_line', drop_first=True)\n"
      ],
      "metadata": {
        "id": "weiC_Eu0X1mk"
      },
      "execution_count": 35,
      "outputs": []
    },
    {
      "cell_type": "code",
      "source": [
        "df_encoded = pd.concat([df, dummy_vars], axis=1)\n"
      ],
      "metadata": {
        "id": "OOlRwuSPX3Gw"
      },
      "execution_count": 36,
      "outputs": []
    },
    {
      "cell_type": "code",
      "source": [
        "# Step 4: Define features (X) and target (y)\n",
        "X_encoded = df_encoded[dummy_vars.columns]  # Independent variables: encoded product lines\n",
        "y_encoded = df_encoded['total_amount']     # Dependent variable: total revenue\n"
      ],
      "metadata": {
        "id": "kJrOeekEX4sq"
      },
      "execution_count": 37,
      "outputs": []
    },
    {
      "cell_type": "code",
      "source": [
        "# Step 5: Split the data into training and testing sets\n",
        "X_train_encoded, X_test_encoded, y_train_encoded, y_test_encoded = train_test_split(X_encoded, y_encoded, test_size=0.2, random_state=42)\n"
      ],
      "metadata": {
        "id": "xrARlhIbX6V9"
      },
      "execution_count": 38,
      "outputs": []
    },
    {
      "cell_type": "code",
      "source": [
        "# Step 6: Create and fit the linear regression model\n",
        "model_encoded = LinearRegression()\n",
        "model_encoded.fit(X_train_encoded, y_train_encoded)"
      ],
      "metadata": {
        "colab": {
          "base_uri": "https://localhost:8080/",
          "height": 75
        },
        "id": "-kuYxBcrX74R",
        "outputId": "accf8976-c7e1-4f85-c22e-c567a6c89967"
      },
      "execution_count": 39,
      "outputs": [
        {
          "output_type": "execute_result",
          "data": {
            "text/plain": [
              "LinearRegression()"
            ],
            "text/html": [
              "<style>#sk-container-id-3 {color: black;background-color: white;}#sk-container-id-3 pre{padding: 0;}#sk-container-id-3 div.sk-toggleable {background-color: white;}#sk-container-id-3 label.sk-toggleable__label {cursor: pointer;display: block;width: 100%;margin-bottom: 0;padding: 0.3em;box-sizing: border-box;text-align: center;}#sk-container-id-3 label.sk-toggleable__label-arrow:before {content: \"▸\";float: left;margin-right: 0.25em;color: #696969;}#sk-container-id-3 label.sk-toggleable__label-arrow:hover:before {color: black;}#sk-container-id-3 div.sk-estimator:hover label.sk-toggleable__label-arrow:before {color: black;}#sk-container-id-3 div.sk-toggleable__content {max-height: 0;max-width: 0;overflow: hidden;text-align: left;background-color: #f0f8ff;}#sk-container-id-3 div.sk-toggleable__content pre {margin: 0.2em;color: black;border-radius: 0.25em;background-color: #f0f8ff;}#sk-container-id-3 input.sk-toggleable__control:checked~div.sk-toggleable__content {max-height: 200px;max-width: 100%;overflow: auto;}#sk-container-id-3 input.sk-toggleable__control:checked~label.sk-toggleable__label-arrow:before {content: \"▾\";}#sk-container-id-3 div.sk-estimator input.sk-toggleable__control:checked~label.sk-toggleable__label {background-color: #d4ebff;}#sk-container-id-3 div.sk-label input.sk-toggleable__control:checked~label.sk-toggleable__label {background-color: #d4ebff;}#sk-container-id-3 input.sk-hidden--visually {border: 0;clip: rect(1px 1px 1px 1px);clip: rect(1px, 1px, 1px, 1px);height: 1px;margin: -1px;overflow: hidden;padding: 0;position: absolute;width: 1px;}#sk-container-id-3 div.sk-estimator {font-family: monospace;background-color: #f0f8ff;border: 1px dotted black;border-radius: 0.25em;box-sizing: border-box;margin-bottom: 0.5em;}#sk-container-id-3 div.sk-estimator:hover {background-color: #d4ebff;}#sk-container-id-3 div.sk-parallel-item::after {content: \"\";width: 100%;border-bottom: 1px solid gray;flex-grow: 1;}#sk-container-id-3 div.sk-label:hover label.sk-toggleable__label {background-color: #d4ebff;}#sk-container-id-3 div.sk-serial::before {content: \"\";position: absolute;border-left: 1px solid gray;box-sizing: border-box;top: 0;bottom: 0;left: 50%;z-index: 0;}#sk-container-id-3 div.sk-serial {display: flex;flex-direction: column;align-items: center;background-color: white;padding-right: 0.2em;padding-left: 0.2em;position: relative;}#sk-container-id-3 div.sk-item {position: relative;z-index: 1;}#sk-container-id-3 div.sk-parallel {display: flex;align-items: stretch;justify-content: center;background-color: white;position: relative;}#sk-container-id-3 div.sk-item::before, #sk-container-id-3 div.sk-parallel-item::before {content: \"\";position: absolute;border-left: 1px solid gray;box-sizing: border-box;top: 0;bottom: 0;left: 50%;z-index: -1;}#sk-container-id-3 div.sk-parallel-item {display: flex;flex-direction: column;z-index: 1;position: relative;background-color: white;}#sk-container-id-3 div.sk-parallel-item:first-child::after {align-self: flex-end;width: 50%;}#sk-container-id-3 div.sk-parallel-item:last-child::after {align-self: flex-start;width: 50%;}#sk-container-id-3 div.sk-parallel-item:only-child::after {width: 0;}#sk-container-id-3 div.sk-dashed-wrapped {border: 1px dashed gray;margin: 0 0.4em 0.5em 0.4em;box-sizing: border-box;padding-bottom: 0.4em;background-color: white;}#sk-container-id-3 div.sk-label label {font-family: monospace;font-weight: bold;display: inline-block;line-height: 1.2em;}#sk-container-id-3 div.sk-label-container {text-align: center;}#sk-container-id-3 div.sk-container {/* jupyter's `normalize.less` sets `[hidden] { display: none; }` but bootstrap.min.css set `[hidden] { display: none !important; }` so we also need the `!important` here to be able to override the default hidden behavior on the sphinx rendered scikit-learn.org. See: https://github.com/scikit-learn/scikit-learn/issues/21755 */display: inline-block !important;position: relative;}#sk-container-id-3 div.sk-text-repr-fallback {display: none;}</style><div id=\"sk-container-id-3\" class=\"sk-top-container\"><div class=\"sk-text-repr-fallback\"><pre>LinearRegression()</pre><b>In a Jupyter environment, please rerun this cell to show the HTML representation or trust the notebook. <br />On GitHub, the HTML representation is unable to render, please try loading this page with nbviewer.org.</b></div><div class=\"sk-container\" hidden><div class=\"sk-item\"><div class=\"sk-estimator sk-toggleable\"><input class=\"sk-toggleable__control sk-hidden--visually\" id=\"sk-estimator-id-3\" type=\"checkbox\" checked><label for=\"sk-estimator-id-3\" class=\"sk-toggleable__label sk-toggleable__label-arrow\">LinearRegression</label><div class=\"sk-toggleable__content\"><pre>LinearRegression()</pre></div></div></div></div></div>"
            ]
          },
          "metadata": {},
          "execution_count": 39
        }
      ]
    },
    {
      "cell_type": "code",
      "source": [
        "# Step 7: Output the coefficients in normal numbers\n",
        "coefficients = model_encoded.coef_\n",
        "intercept = model_encoded.intercept_\n"
      ],
      "metadata": {
        "id": "0w6FImVIYJAL"
      },
      "execution_count": 40,
      "outputs": []
    },
    {
      "cell_type": "code",
      "source": [
        "# Convert coefficients to normal numbers\n",
        "coefficients_normal = [f'{coef:.2f}' for coef in coefficients]\n",
        "intercept_normal = f'{intercept:.2f}'\n",
        "\n",
        "print(\"Intercept:\", intercept_normal)\n",
        "print(\"Coefficients for one-hot encoded product lines:\")\n",
        "print(coefficients_normal)"
      ],
      "metadata": {
        "colab": {
          "base_uri": "https://localhost:8080/"
        },
        "id": "wPCw9SIdYNIF",
        "outputId": "57d612e0-26a7-4a41-814f-a65f470116bc"
      },
      "execution_count": 41,
      "outputs": [
        {
          "output_type": "stream",
          "name": "stdout",
          "text": [
            "Intercept: 49.22\n",
            "Coefficients for one-hot encoded product lines:\n",
            "['1774.06', '654.56', '95785.01', '1086.02', '6973.34', '967.70', '-31.77', '14631.04']\n"
          ]
        }
      ]
    },
    {
      "cell_type": "code",
      "source": [
        "\n",
        "# Make predictions\n",
        "y_pred_encoded = model_encoded.predict(X_test_encoded)\n"
      ],
      "metadata": {
        "id": "-O22I9odX_az"
      },
      "execution_count": 42,
      "outputs": []
    },
    {
      "cell_type": "code",
      "source": [
        "# Calculate R^2 score\n",
        "r2_encoded = r2_score(y_test_encoded, y_pred_encoded)\n",
        "print(\"R^2 Score with one-hot encoded product lines:\", r2_encoded)"
      ],
      "metadata": {
        "colab": {
          "base_uri": "https://localhost:8080/"
        },
        "id": "4pmgCTK6YBAp",
        "outputId": "28f1ccfa-50a1-413f-c3af-f417328d9ac0"
      },
      "execution_count": 43,
      "outputs": [
        {
          "output_type": "stream",
          "name": "stdout",
          "text": [
            "R^2 Score with one-hot encoded product lines: 0.1812084144200985\n"
          ]
        }
      ]
    }
  ],
  "metadata": {
    "language_info": {
      "name": "python"
    },
    "colab": {
      "provenance": []
    },
    "kernelspec": {
      "name": "python3",
      "display_name": "Python 3"
    }
  },
  "nbformat": 4,
  "nbformat_minor": 0
}