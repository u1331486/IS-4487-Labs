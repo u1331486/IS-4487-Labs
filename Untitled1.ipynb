{
  "nbformat": 4,
  "nbformat_minor": 0,
  "metadata": {
    "colab": {
      "provenance": [],
      "authorship_tag": "ABX9TyNqExgt8dOgHZ4EUCHKLkri",
      "include_colab_link": true
    },
    "kernelspec": {
      "name": "python3",
      "display_name": "Python 3"
    },
    "language_info": {
      "name": "python"
    }
  },
  "cells": [
    {
      "cell_type": "markdown",
      "metadata": {
        "id": "view-in-github",
        "colab_type": "text"
      },
      "source": [
        "<a href=\"https://colab.research.google.com/github/u1331486/IS-4487-Labs/blob/main/Untitled1.ipynb\" target=\"_parent\"><img src=\"https://colab.research.google.com/assets/colab-badge.svg\" alt=\"Open In Colab\"/></a>"
      ]
    },
    {
      "cell_type": "code",
      "source": [
        "import pandas as pd\n"
      ],
      "metadata": {
        "id": "I_HxHUL-iqay"
      },
      "execution_count": 1,
      "outputs": []
    },
    {
      "cell_type": "code",
      "execution_count": 2,
      "metadata": {
        "colab": {
          "base_uri": "https://localhost:8080/"
        },
        "id": "i5jyakKEiLLZ",
        "outputId": "47da28b0-aa91-412a-c8a7-ee1fd13a6fee"
      },
      "outputs": [
        {
          "output_type": "stream",
          "name": "stdout",
          "text": [
            "Mounted at /content/drive\n"
          ]
        }
      ],
      "source": [
        "from google.colab import drive\n",
        "drive.mount('/content/drive')"
      ]
    },
    {
      "cell_type": "code",
      "source": [
        "file_path = \"/content/drive/MyDrive/Colab Notebooks/adviseinvest (2).csv\"\n",
        "df = pd.read_csv(file_path)\n",
        "\n",
        "# Describe the dataframe\n",
        "print(df.describe())"
      ],
      "metadata": {
        "colab": {
          "base_uri": "https://localhost:8080/"
        },
        "id": "ypWyRLheiRW8",
        "outputId": "eb805c7a-794e-4939-fef6-2901d22e4c8f"
      },
      "execution_count": 3,
      "outputs": [
        {
          "output_type": "stream",
          "name": "stdout",
          "text": [
            "           answered         income        female           age           job  \\\n",
            "count  29504.000000   29504.000000  29504.000000  29504.000000  29504.000000   \n",
            "mean       0.546638   33766.893303      0.054230     34.770065      1.915401   \n",
            "std        0.497829   29379.202710      0.226475     11.355777      0.658183   \n",
            "min        0.000000  -65600.000000      0.000000     19.000000      0.000000   \n",
            "25%        0.000000   13550.000000      0.000000     26.000000      2.000000   \n",
            "50%        1.000000   23310.000000      0.000000     32.000000      2.000000   \n",
            "75%        1.000000   41690.000000      0.000000     40.000000      2.000000   \n",
            "max        1.000000  159450.000000      1.000000     74.000000      3.000000   \n",
            "\n",
            "       num_dependents          rent       own_res       new_car      chk_acct  \\\n",
            "count    29504.000000  29504.000000  29504.000000  29502.000000  29504.000000   \n",
            "mean         1.140998      0.210412      0.681128      0.240797      1.468547   \n",
            "std          0.348025      0.407608      0.466047      0.427575      1.234727   \n",
            "min          1.000000      0.000000      0.000000      0.000000      0.000000   \n",
            "25%          1.000000      0.000000      0.000000      0.000000      0.000000   \n",
            "50%          1.000000      0.000000      1.000000      0.000000      1.000000   \n",
            "75%          1.000000      0.000000      1.000000      0.000000      3.000000   \n",
            "max          2.000000      1.000000      1.000000      1.000000      3.000000   \n",
            "\n",
            "           sav_acct     num_accts        mobile       product  \n",
            "count  29504.000000  29504.000000  29504.000000  29504.000000  \n",
            "mean       0.956616      2.458175      0.091106      1.535792  \n",
            "std        1.483946     19.497353      0.287765      1.625916  \n",
            "min        0.000000      0.000000      0.000000      0.000000  \n",
            "25%        0.000000      2.000000      0.000000      0.000000  \n",
            "50%        0.000000      2.000000      0.000000      1.000000  \n",
            "75%        2.000000      3.000000      0.000000      3.000000  \n",
            "max        4.000000   3345.000000      1.000000      4.000000  \n"
          ]
        }
      ]
    },
    {
      "cell_type": "code",
      "source": [
        "print(df.columns)\n"
      ],
      "metadata": {
        "colab": {
          "base_uri": "https://localhost:8080/"
        },
        "id": "jXnVUFlTodaN",
        "outputId": "577a74b7-dd36-4d80-964d-f0291f87b301"
      },
      "execution_count": 4,
      "outputs": [
        {
          "output_type": "stream",
          "name": "stdout",
          "text": [
            "Index(['answered', 'income', 'female', 'age', 'job', 'num_dependents', 'rent',\n",
            "       'own_res', 'new_car', 'chk_acct', 'sav_acct', 'num_accts', 'mobile',\n",
            "       'product'],\n",
            "      dtype='object')\n"
          ]
        }
      ]
    },
    {
      "cell_type": "code",
      "source": [
        "# Remove rows with NAs\n",
        "df = df.dropna()\n"
      ],
      "metadata": {
        "id": "_b_9n6T4n0Pj"
      },
      "execution_count": 5,
      "outputs": []
    },
    {
      "cell_type": "markdown",
      "source": [
        "ny\n"
      ],
      "metadata": {
        "id": "uEDbKmxdFIfv"
      }
    },
    {
      "cell_type": "code",
      "source": [
        "# Proportion of answered calls in the dataset\n",
        "proportion_answered = df['answered'].mean()\n",
        "\n",
        "# Accuracy of the majority class classifier (equivalent to the proportion of answered calls)\n",
        "accuracy_majority_class_classifier = proportion_answered\n",
        "\n",
        "# Round the accuracy to three decimals\n",
        "accuracy_majority_class_classifier_rounded = round(accuracy_majority_class_classifier, 3)\n",
        "\n",
        "print(\"Accuracy of the majority class classifier:\", accuracy_majority_class_classifier_rounded)"
      ],
      "metadata": {
        "colab": {
          "base_uri": "https://localhost:8080/"
        },
        "id": "RQKXiDqjFLfw",
        "outputId": "1f94993d-016c-401c-b6f0-aac6b1171c73"
      },
      "execution_count": 6,
      "outputs": [
        {
          "output_type": "stream",
          "name": "stdout",
          "text": [
            "Accuracy of the majority class classifier: 0.547\n"
          ]
        }
      ]
    },
    {
      "cell_type": "markdown",
      "source": [
        "slut op ny\n"
      ],
      "metadata": {
        "id": "pcZ2Hk4FFKDS"
      }
    },
    {
      "cell_type": "code",
      "source": [
        "# Remove the row with the single outlier in num_accts\n",
        "df = df[df['num_accts'] != df['num_accts'].max()]\n"
      ],
      "metadata": {
        "id": "TitZtFkFn4vk"
      },
      "execution_count": 7,
      "outputs": []
    },
    {
      "cell_type": "code",
      "source": [
        "\n",
        "# Remove the rows with negative income values\n",
        "df = df[df['income'] >= 0]\n",
        "\n"
      ],
      "metadata": {
        "id": "0ZrVv6wpn68b"
      },
      "execution_count": 8,
      "outputs": []
    },
    {
      "cell_type": "code",
      "source": [
        "# Make all the categorical variables into factors\n",
        "categorical_vars = ['job', 'chk_acct', 'sav_acct']\n",
        "for var in categorical_vars:\n",
        "    df[var] = df[var].astype('category')\n"
      ],
      "metadata": {
        "id": "sGGQSLYmn9J0"
      },
      "execution_count": 9,
      "outputs": []
    },
    {
      "cell_type": "code",
      "source": [
        "# Display the cleaned dataset description and column names\n",
        "print(df.describe())\n",
        "print(df.columns)\n",
        "\n"
      ],
      "metadata": {
        "colab": {
          "base_uri": "https://localhost:8080/"
        },
        "id": "nd0v5Rapn_gY",
        "outputId": "8c65f097-9de3-4139-c639-e4f90d7d4463"
      },
      "execution_count": 10,
      "outputs": [
        {
          "output_type": "stream",
          "name": "stdout",
          "text": [
            "           answered         income        female           age  \\\n",
            "count  29499.000000   29499.000000  29499.000000  29499.000000   \n",
            "mean       0.546595   33772.499407      0.054171     34.768840   \n",
            "std        0.497833   29374.485379      0.226359     11.354486   \n",
            "min        0.000000    2760.000000      0.000000     19.000000   \n",
            "25%        0.000000   13550.000000      0.000000     26.000000   \n",
            "50%        1.000000   23310.000000      0.000000     32.000000   \n",
            "75%        1.000000   41690.000000      0.000000     40.000000   \n",
            "max        1.000000  159450.000000      1.000000     74.000000   \n",
            "\n",
            "       num_dependents          rent       own_res       new_car     num_accts  \\\n",
            "count    29499.000000  29499.000000  29499.000000  29499.000000  29499.000000   \n",
            "mean         1.141022      0.210448      0.681074      0.240788      2.344859   \n",
            "std          0.348050      0.407634      0.466068      0.427569      1.200390   \n",
            "min          1.000000      0.000000      0.000000      0.000000      0.000000   \n",
            "25%          1.000000      0.000000      0.000000      0.000000      2.000000   \n",
            "50%          1.000000      0.000000      1.000000      0.000000      2.000000   \n",
            "75%          1.000000      0.000000      1.000000      0.000000      3.000000   \n",
            "max          2.000000      1.000000      1.000000      1.000000      4.000000   \n",
            "\n",
            "             mobile       product  \n",
            "count  29499.000000  29499.000000  \n",
            "mean       0.091088      1.535747  \n",
            "std        0.287739      1.625958  \n",
            "min        0.000000      0.000000  \n",
            "25%        0.000000      0.000000  \n",
            "50%        0.000000      1.000000  \n",
            "75%        0.000000      3.000000  \n",
            "max        1.000000      4.000000  \n",
            "Index(['answered', 'income', 'female', 'age', 'job', 'num_dependents', 'rent',\n",
            "       'own_res', 'new_car', 'chk_acct', 'sav_acct', 'num_accts', 'mobile',\n",
            "       'product'],\n",
            "      dtype='object')\n"
          ]
        }
      ]
    },
    {
      "cell_type": "code",
      "source": [
        "# Show the first few rows of the cleaned dataframe\n",
        "print(df.head())"
      ],
      "metadata": {
        "colab": {
          "base_uri": "https://localhost:8080/"
        },
        "id": "bUYQtrwRoAqV",
        "outputId": "e00a0bdc-747d-48f4-d086-71da9ffce1a0"
      },
      "execution_count": 11,
      "outputs": [
        {
          "output_type": "stream",
          "name": "stdout",
          "text": [
            "   answered  income  female  age job  num_dependents  rent  own_res  new_car  \\\n",
            "0         1   13520       0   23   0               1     1        0      0.0   \n",
            "1         0   14780       0   22   2               1     0        1      0.0   \n",
            "2         1   37570       0   62   2               1     0        0      1.0   \n",
            "3         0   12450       0   33   2               1     0        1      0.0   \n",
            "4         0   12400       0   48   1               2     0        0      1.0   \n",
            "\n",
            "  chk_acct sav_acct  num_accts  mobile  product  \n",
            "0        0        2          0       1        2  \n",
            "1        3        0          3       0        0  \n",
            "2        3        0          4       0        4  \n",
            "3        1        0          2       0        0  \n",
            "4        2        1          4       0        0  \n"
          ]
        }
      ]
    },
    {
      "cell_type": "markdown",
      "source": [
        "Accuracy of the income model: To fit a tree model using just one\n",
        "\n",
        "variable (income) with a depth of 2 and calculate its accuracy, you can use a decision tree classifier from scikit-learn. Here's a sample code to fit the model and calculate accuracy:\n",
        "\n"
      ],
      "metadata": {
        "id": "-zbLOYzUo_fD"
      }
    },
    {
      "cell_type": "code",
      "source": [
        "from sklearn.tree import DecisionTreeClassifier\n",
        "from sklearn.model_selection import train_test_split\n",
        "from sklearn.metrics import accuracy_score"
      ],
      "metadata": {
        "id": "ZJpzQ-5VoBhP"
      },
      "execution_count": 12,
      "outputs": []
    },
    {
      "cell_type": "code",
      "source": [
        "# Split data into features (X) and target variable (y)\n",
        "X = df[['income']]\n",
        "y = df['answered']"
      ],
      "metadata": {
        "id": "WRSSMEhhpDez"
      },
      "execution_count": 13,
      "outputs": []
    },
    {
      "cell_type": "code",
      "source": [
        "# Split data into training and testing sets\n",
        "X_train, X_test, y_train, y_test = train_test_split(X, y, test_size=0.2, random_state=42)\n",
        "\n"
      ],
      "metadata": {
        "id": "lCKE5nyCpEzQ"
      },
      "execution_count": 14,
      "outputs": []
    },
    {
      "cell_type": "code",
      "source": [
        "# Fit the decision tree model\n",
        "tree_model = DecisionTreeClassifier(max_depth=2, random_state=42)\n",
        "tree_model.fit(X_train, y_train)\n"
      ],
      "metadata": {
        "colab": {
          "base_uri": "https://localhost:8080/",
          "height": 75
        },
        "id": "5Q-4AXTlpGBj",
        "outputId": "e85bb22b-2f05-4197-db8a-c74392a61b5c"
      },
      "execution_count": 15,
      "outputs": [
        {
          "output_type": "execute_result",
          "data": {
            "text/plain": [
              "DecisionTreeClassifier(max_depth=2, random_state=42)"
            ],
            "text/html": [
              "<style>#sk-container-id-1 {color: black;background-color: white;}#sk-container-id-1 pre{padding: 0;}#sk-container-id-1 div.sk-toggleable {background-color: white;}#sk-container-id-1 label.sk-toggleable__label {cursor: pointer;display: block;width: 100%;margin-bottom: 0;padding: 0.3em;box-sizing: border-box;text-align: center;}#sk-container-id-1 label.sk-toggleable__label-arrow:before {content: \"▸\";float: left;margin-right: 0.25em;color: #696969;}#sk-container-id-1 label.sk-toggleable__label-arrow:hover:before {color: black;}#sk-container-id-1 div.sk-estimator:hover label.sk-toggleable__label-arrow:before {color: black;}#sk-container-id-1 div.sk-toggleable__content {max-height: 0;max-width: 0;overflow: hidden;text-align: left;background-color: #f0f8ff;}#sk-container-id-1 div.sk-toggleable__content pre {margin: 0.2em;color: black;border-radius: 0.25em;background-color: #f0f8ff;}#sk-container-id-1 input.sk-toggleable__control:checked~div.sk-toggleable__content {max-height: 200px;max-width: 100%;overflow: auto;}#sk-container-id-1 input.sk-toggleable__control:checked~label.sk-toggleable__label-arrow:before {content: \"▾\";}#sk-container-id-1 div.sk-estimator input.sk-toggleable__control:checked~label.sk-toggleable__label {background-color: #d4ebff;}#sk-container-id-1 div.sk-label input.sk-toggleable__control:checked~label.sk-toggleable__label {background-color: #d4ebff;}#sk-container-id-1 input.sk-hidden--visually {border: 0;clip: rect(1px 1px 1px 1px);clip: rect(1px, 1px, 1px, 1px);height: 1px;margin: -1px;overflow: hidden;padding: 0;position: absolute;width: 1px;}#sk-container-id-1 div.sk-estimator {font-family: monospace;background-color: #f0f8ff;border: 1px dotted black;border-radius: 0.25em;box-sizing: border-box;margin-bottom: 0.5em;}#sk-container-id-1 div.sk-estimator:hover {background-color: #d4ebff;}#sk-container-id-1 div.sk-parallel-item::after {content: \"\";width: 100%;border-bottom: 1px solid gray;flex-grow: 1;}#sk-container-id-1 div.sk-label:hover label.sk-toggleable__label {background-color: #d4ebff;}#sk-container-id-1 div.sk-serial::before {content: \"\";position: absolute;border-left: 1px solid gray;box-sizing: border-box;top: 0;bottom: 0;left: 50%;z-index: 0;}#sk-container-id-1 div.sk-serial {display: flex;flex-direction: column;align-items: center;background-color: white;padding-right: 0.2em;padding-left: 0.2em;position: relative;}#sk-container-id-1 div.sk-item {position: relative;z-index: 1;}#sk-container-id-1 div.sk-parallel {display: flex;align-items: stretch;justify-content: center;background-color: white;position: relative;}#sk-container-id-1 div.sk-item::before, #sk-container-id-1 div.sk-parallel-item::before {content: \"\";position: absolute;border-left: 1px solid gray;box-sizing: border-box;top: 0;bottom: 0;left: 50%;z-index: -1;}#sk-container-id-1 div.sk-parallel-item {display: flex;flex-direction: column;z-index: 1;position: relative;background-color: white;}#sk-container-id-1 div.sk-parallel-item:first-child::after {align-self: flex-end;width: 50%;}#sk-container-id-1 div.sk-parallel-item:last-child::after {align-self: flex-start;width: 50%;}#sk-container-id-1 div.sk-parallel-item:only-child::after {width: 0;}#sk-container-id-1 div.sk-dashed-wrapped {border: 1px dashed gray;margin: 0 0.4em 0.5em 0.4em;box-sizing: border-box;padding-bottom: 0.4em;background-color: white;}#sk-container-id-1 div.sk-label label {font-family: monospace;font-weight: bold;display: inline-block;line-height: 1.2em;}#sk-container-id-1 div.sk-label-container {text-align: center;}#sk-container-id-1 div.sk-container {/* jupyter's `normalize.less` sets `[hidden] { display: none; }` but bootstrap.min.css set `[hidden] { display: none !important; }` so we also need the `!important` here to be able to override the default hidden behavior on the sphinx rendered scikit-learn.org. See: https://github.com/scikit-learn/scikit-learn/issues/21755 */display: inline-block !important;position: relative;}#sk-container-id-1 div.sk-text-repr-fallback {display: none;}</style><div id=\"sk-container-id-1\" class=\"sk-top-container\"><div class=\"sk-text-repr-fallback\"><pre>DecisionTreeClassifier(max_depth=2, random_state=42)</pre><b>In a Jupyter environment, please rerun this cell to show the HTML representation or trust the notebook. <br />On GitHub, the HTML representation is unable to render, please try loading this page with nbviewer.org.</b></div><div class=\"sk-container\" hidden><div class=\"sk-item\"><div class=\"sk-estimator sk-toggleable\"><input class=\"sk-toggleable__control sk-hidden--visually\" id=\"sk-estimator-id-1\" type=\"checkbox\" checked><label for=\"sk-estimator-id-1\" class=\"sk-toggleable__label sk-toggleable__label-arrow\">DecisionTreeClassifier</label><div class=\"sk-toggleable__content\"><pre>DecisionTreeClassifier(max_depth=2, random_state=42)</pre></div></div></div></div></div>"
            ]
          },
          "metadata": {},
          "execution_count": 15
        }
      ]
    },
    {
      "cell_type": "code",
      "source": [
        "# Predict the target variable for test set\n",
        "y_pred = tree_model.predict(X_test)"
      ],
      "metadata": {
        "id": "-SbQP7oHpHWo"
      },
      "execution_count": 16,
      "outputs": []
    },
    {
      "cell_type": "code",
      "source": [
        "# Calculate accuracy\n",
        "accuracy = accuracy_score(y_test, y_pred)\n",
        "print(\"Accuracy of the income model:\", round(accuracy, 3))"
      ],
      "metadata": {
        "colab": {
          "base_uri": "https://localhost:8080/"
        },
        "id": "mnStcDoapJbB",
        "outputId": "e695afd4-7815-4ec7-f409-3843e458d21b"
      },
      "execution_count": 17,
      "outputs": [
        {
          "output_type": "stream",
          "name": "stdout",
          "text": [
            "Accuracy of the income model: 0.617\n"
          ]
        }
      ]
    },
    {
      "cell_type": "markdown",
      "source": [
        "quetion 4"
      ],
      "metadata": {
        "id": "c3lsOEorKkX4"
      }
    },
    {
      "cell_type": "code",
      "source": [
        "import numpy as np\n"
      ],
      "metadata": {
        "id": "s4awjMefKiM-"
      },
      "execution_count": 18,
      "outputs": []
    },
    {
      "cell_type": "code",
      "source": [
        "# Calculate entropy of parent node\n",
        "p_parent = sum(y_train) / len(y_train)\n",
        "entropy_parent = -(p_parent * np.log2(p_parent) + (1 - p_parent) * np.log2(1 - p_parent))\n",
        "\n"
      ],
      "metadata": {
        "id": "IbnasN6dKj7a"
      },
      "execution_count": 19,
      "outputs": []
    },
    {
      "cell_type": "code",
      "source": [
        "# Split the data based on the first split condition in the tree\n",
        "threshold = 39135\n",
        "X_train_c1 = X_train[X_train['income'] >= threshold]\n",
        "X_train_c2 = X_train[X_train['income'] < threshold]\n",
        "y_train_c1 = y_train[X_train['income'] >= threshold]\n",
        "y_train_c2 = y_train[X_train['income'] < threshold]"
      ],
      "metadata": {
        "id": "jayCRm87Kpt0"
      },
      "execution_count": 20,
      "outputs": []
    },
    {
      "cell_type": "code",
      "source": [
        "# Calculate proportions\n",
        "p_c1 = len(X_train_c1) / len(X_train)\n",
        "p_c2 = len(X_train_c2) / len(X_train)"
      ],
      "metadata": {
        "id": "RGcQ2tzuKpfm"
      },
      "execution_count": 21,
      "outputs": []
    },
    {
      "cell_type": "code",
      "source": [
        "# Calculate entropy of child nodes\n",
        "p_c1_positive = sum(y_train_c1) / len(y_train_c1)\n",
        "entropy_c1 = -(p_c1_positive * np.log2(p_c1_positive) + (1 - p_c1_positive) * np.log2(1 - p_c1_positive))\n",
        "\n",
        "p_c2_positive = sum(y_train_c2) / len(y_train_c2)\n",
        "entropy_c2 = -(p_c2_positive * np.log2(p_c2_positive) + (1 - p_c2_positive) * np.log2(1 - p_c2_positive))\n"
      ],
      "metadata": {
        "id": "Oiy0GdgwKuSm"
      },
      "execution_count": 22,
      "outputs": []
    },
    {
      "cell_type": "code",
      "source": [
        "# Calculate information gain\n",
        "IG = entropy_parent - (p_c1 * entropy_c1 + p_c2 * entropy_c2)\n",
        "print(\"Information Gain associated with the first split:\", round(IG, 3))"
      ],
      "metadata": {
        "colab": {
          "base_uri": "https://localhost:8080/"
        },
        "id": "Mf54eJtiKwPA",
        "outputId": "e2e24e2c-13de-4636-a056-e3f154b32c46"
      },
      "execution_count": 23,
      "outputs": [
        {
          "output_type": "stream",
          "name": "stdout",
          "text": [
            "Information Gain associated with the first split: 0.037\n"
          ]
        }
      ]
    },
    {
      "cell_type": "markdown",
      "source": [
        "end 4"
      ],
      "metadata": {
        "id": "mhUSVn9fKoEL"
      }
    },
    {
      "cell_type": "code",
      "source": [
        "import numpy as np\n",
        "\n",
        "# Calculate entropy of parent node\n",
        "p_parent = sum(y_train) / len(y_train)\n",
        "entropy_parent = -(p_parent * np.log2(p_parent) + (1 - p_parent) * np.log2(1 - p_parent))\n"
      ],
      "metadata": {
        "id": "3X_ANfnhpQFl"
      },
      "execution_count": 24,
      "outputs": []
    },
    {
      "cell_type": "code",
      "source": [
        "# Split the data based on the first split condition in the tree\n",
        "# Assuming the first split condition is income >= threshold\n",
        "threshold = X_train['income'].mean()\n",
        "X_train_c1 = X_train[X_train['income'] >= threshold]\n",
        "X_train_c2 = X_train[X_train['income'] < threshold]\n",
        "y_train_c1 = y_train[X_train['income'] >= threshold]\n",
        "y_train_c2 = y_train[X_train['income'] < threshold]"
      ],
      "metadata": {
        "id": "gway-KNbpcQ_"
      },
      "execution_count": 25,
      "outputs": []
    },
    {
      "cell_type": "code",
      "source": [
        "# Calculate proportions\n",
        "p_c1 = len(X_train_c1) / len(X_train)\n",
        "p_c2 = len(X_train_c2) / len(X_train)\n",
        "\n",
        "# Calculate entropy of child nodes\n",
        "p_c1_positive = sum(y_train_c1) / len(y_train_c1)\n",
        "entropy_c1 = -(p_c1_positive * np.log2(p_c1_positive) + (1 - p_c1_positive) * np.log2(1 - p_c1_positive))\n",
        "\n",
        "p_c2_positive = sum(y_train_c2) / len(y_train_c2)\n",
        "entropy_c2 = -(p_c2_positive * np.log2(p_c2_positive) + (1 - p_c2_positive) * np.log2(1 - p_c2_positive))\n",
        "\n",
        "# Calculate information gain\n",
        "IG = entropy_parent - (p_c1 * entropy_c1 + p_c2 * entropy_c2)\n",
        "print(\"Information Gain associated with the first split:\", round(IG, 3))"
      ],
      "metadata": {
        "colab": {
          "base_uri": "https://localhost:8080/"
        },
        "id": "lsOnHma5petB",
        "outputId": "a93240d2-f001-4dfe-d6e9-e99aedd4917b"
      },
      "execution_count": 26,
      "outputs": [
        {
          "output_type": "stream",
          "name": "stdout",
          "text": [
            "Information Gain associated with the first split: 0.017\n"
          ]
        }
      ]
    }
  ]
}